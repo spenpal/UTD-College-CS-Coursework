{
 "cells": [
  {
   "cell_type": "markdown",
   "metadata": {},
   "source": [
    "# IMPORTS"
   ]
  },
  {
   "cell_type": "code",
   "execution_count": 1,
   "metadata": {},
   "outputs": [],
   "source": [
    "from pyspark.sql import SparkSession\n",
    "from pyspark.sql.functions import dayofweek, col\n",
    "\n",
    "from pyspark.ml.feature import VectorAssembler, StandardScaler, StringIndexer, OneHotEncoder\n",
    "\n",
    "import numpy as np\n",
    "import matplotlib.pyplot as plt"
   ]
  },
  {
   "cell_type": "markdown",
   "metadata": {},
   "source": [
    "# LOAD DATA\n",
    "\n",
    "You can download the data at [Kaggle site](https://www.kaggle.com/datasets/patrickzel/flight-delay-and-cancellation-dataset-2019-2023?select=2021.csv) or through the provided S3 bucket location."
   ]
  },
  {
   "cell_type": "code",
   "execution_count": 2,
   "metadata": {},
   "outputs": [
    {
     "name": "stderr",
     "output_type": "stream",
     "text": [
      "your 131072x1 screen size is bogus. expect trouble\n",
      "23/12/01 23:39:36 WARN Utils: Your hostname, JeevsPC resolves to a loopback address: 127.0.1.1; using 172.18.163.150 instead (on interface eth0)\n",
      "23/12/01 23:39:36 WARN Utils: Set SPARK_LOCAL_IP if you need to bind to another address\n",
      "Setting default log level to \"WARN\".\n",
      "To adjust logging level use sc.setLogLevel(newLevel). For SparkR, use setLogLevel(newLevel).\n",
      "23/12/01 23:39:37 WARN NativeCodeLoader: Unable to load native-hadoop library for your platform... using builtin-java classes where applicable\n"
     ]
    }
   ],
   "source": [
    "# Initialize Spark session\n",
    "spark = SparkSession.builder.appName(\"FlightDelayPrediction\").getOrCreate()\n",
    "spark.sparkContext.setLogLevel(\"ERROR\")"
   ]
  },
  {
   "cell_type": "code",
   "execution_count": 3,
   "metadata": {},
   "outputs": [
    {
     "name": "stderr",
     "output_type": "stream",
     "text": [
      "                                                                                \r"
     ]
    }
   ],
   "source": [
    "file_path = \"2021.csv\"\n",
    "data_2021 = spark.read.csv(file_path, header=True, inferSchema=True)"
   ]
  },
  {
   "cell_type": "code",
   "execution_count": 4,
   "metadata": {},
   "outputs": [],
   "source": [
    "target_col = \"DEP_DELAY\""
   ]
  },
  {
   "cell_type": "markdown",
   "metadata": {},
   "source": [
    "# DATA ANALYSIS"
   ]
  },
  {
   "cell_type": "code",
   "execution_count": 5,
   "metadata": {},
   "outputs": [
    {
     "name": "stdout",
     "output_type": "stream",
     "text": [
      "root\n",
      " |-- FL_DATE: date (nullable = true)\n",
      " |-- AIRLINE_CODE: string (nullable = true)\n",
      " |-- DOT_CODE: integer (nullable = true)\n",
      " |-- FL_NUMBER: integer (nullable = true)\n",
      " |-- ORIGIN: string (nullable = true)\n",
      " |-- ORIGIN_CITY: string (nullable = true)\n",
      " |-- DEST: string (nullable = true)\n",
      " |-- DEST_CITY: string (nullable = true)\n",
      " |-- CRS_DEP_TIME: integer (nullable = true)\n",
      " |-- DEP_TIME: double (nullable = true)\n",
      " |-- DEP_DELAY: double (nullable = true)\n",
      " |-- TAXI_OUT: double (nullable = true)\n",
      " |-- WHEELS_OFF: double (nullable = true)\n",
      " |-- WHEELS_ON: double (nullable = true)\n",
      " |-- TAXI_IN: double (nullable = true)\n",
      " |-- CRS_ARR_TIME: integer (nullable = true)\n",
      " |-- ARR_TIME: double (nullable = true)\n",
      " |-- ARR_DELAY: double (nullable = true)\n",
      " |-- CANCELLED: double (nullable = true)\n",
      " |-- CANCELLATION_CODE: string (nullable = true)\n",
      " |-- DIVERTED: double (nullable = true)\n",
      " |-- CRS_ELAPSED_TIME: double (nullable = true)\n",
      " |-- ELAPSED_TIME: double (nullable = true)\n",
      " |-- AIR_TIME: double (nullable = true)\n",
      " |-- DISTANCE: double (nullable = true)\n",
      " |-- DELAY_DUE_CARRIER: double (nullable = true)\n",
      " |-- DELAY_DUE_WEATHER: double (nullable = true)\n",
      " |-- DELAY_DUE_NAS: double (nullable = true)\n",
      " |-- DELAY_DUE_SECURITY: double (nullable = true)\n",
      " |-- DELAY_DUE_LATE_AIRCRAFT: double (nullable = true)\n",
      " |-- FL_YEAR: integer (nullable = true)\n",
      " |-- FL_MONTH: integer (nullable = true)\n",
      " |-- FL_DAY: integer (nullable = true)\n",
      "\n"
     ]
    }
   ],
   "source": [
    "data_2021.printSchema()"
   ]
  },
  {
   "cell_type": "code",
   "execution_count": 6,
   "metadata": {},
   "outputs": [
    {
     "name": "stdout",
     "output_type": "stream",
     "text": [
      "\n",
      "Sample of Data 2021:\n"
     ]
    },
    {
     "name": "stdout",
     "output_type": "stream",
     "text": [
      "+----------+------------+--------+---------+------+----------------------+----+----------------------+------------+--------+---------+--------+----------+---------+-------+------------+--------+---------+---------+-----------------+--------+----------------+------------+--------+--------+-----------------+-----------------+-------------+------------------+-----------------------+-------+--------+------+\n",
      "|FL_DATE   |AIRLINE_CODE|DOT_CODE|FL_NUMBER|ORIGIN|ORIGIN_CITY           |DEST|DEST_CITY             |CRS_DEP_TIME|DEP_TIME|DEP_DELAY|TAXI_OUT|WHEELS_OFF|WHEELS_ON|TAXI_IN|CRS_ARR_TIME|ARR_TIME|ARR_DELAY|CANCELLED|CANCELLATION_CODE|DIVERTED|CRS_ELAPSED_TIME|ELAPSED_TIME|AIR_TIME|DISTANCE|DELAY_DUE_CARRIER|DELAY_DUE_WEATHER|DELAY_DUE_NAS|DELAY_DUE_SECURITY|DELAY_DUE_LATE_AIRCRAFT|FL_YEAR|FL_MONTH|FL_DAY|\n",
      "+----------+------------+--------+---------+------+----------------------+----+----------------------+------------+--------+---------+--------+----------+---------+-------+------------+--------+---------+---------+-----------------+--------+----------------+------------+--------+--------+-----------------+-----------------+-------------+------------------+-----------------------+-------+--------+------+\n",
      "|2021-11-26|YV          |20378   |6228     |RDU   |Raleigh/Durham, NC    |IAD |Washington, DC        |1430        |1428.0  |-2.0     |39.0    |1507.0    |1606.0   |13.0   |1550        |1619.0  |29.0     |0.0      |Z                |0.0     |80.0            |111.0       |59.0    |224.0   |0.0              |0.0              |29.0         |0.0               |0.0                    |2021   |11      |26    |\n",
      "|2021-11-30|YV          |20378   |6038     |CVG   |Cincinnati, OH        |ORD |Chicago, IL           |1820        |1820.0  |0.0      |34.0    |1854.0    |1906.0   |10.0   |1854        |1916.0  |22.0     |0.0      |Z                |0.0     |94.0            |116.0       |72.0    |264.0   |0.0              |0.0              |22.0         |0.0               |0.0                    |2021   |11      |30    |\n",
      "|2021-11-26|YV          |20378   |6251     |IAH   |Houston, TX           |SRQ |Sarasota/Bradenton, FL|955         |950.0   |-5.0     |57.0    |1047.0    |1332.0   |5.0    |1306        |1337.0  |31.0     |0.0      |Z                |0.0     |131.0           |167.0       |105.0   |796.0   |0.0              |0.0              |31.0         |0.0               |0.0                    |2021   |11      |26    |\n",
      "|2021-11-24|YV          |20378   |6079     |SRQ   |Sarasota/Bradenton, FL|IAD |Washington, DC        |1355        |1355.0  |0.0      |40.0    |1435.0    |1643.0   |5.0    |1625        |1648.0  |23.0     |0.0      |Z                |0.0     |150.0           |173.0       |128.0   |849.0   |0.0              |0.0              |23.0         |0.0               |0.0                    |2021   |11      |24    |\n",
      "|2021-11-22|YV          |20378   |6079     |IAD   |Washington, DC        |SRQ |Sarasota/Bradenton, FL|825         |824.0   |-1.0     |25.0    |849.0     |1111.0   |12.0   |1103        |1123.0  |20.0     |0.0      |Z                |0.0     |158.0           |179.0       |142.0   |849.0   |0.0              |0.0              |20.0         |0.0               |0.0                    |2021   |11      |22    |\n",
      "+----------+------------+--------+---------+------+----------------------+----+----------------------+------------+--------+---------+--------+----------+---------+-------+------------+--------+---------+---------+-----------------+--------+----------------+------------+--------+--------+-----------------+-----------------+-------------+------------------+-----------------------+-------+--------+------+\n",
      "only showing top 5 rows\n",
      "\n"
     ]
    }
   ],
   "source": [
    "# Show a sample of the data\n",
    "print(\"\\nSample of Data 2021:\")\n",
    "data_2021.show(5, truncate=False)"
   ]
  },
  {
   "cell_type": "code",
   "execution_count": 7,
   "metadata": {},
   "outputs": [
    {
     "name": "stdout",
     "output_type": "stream",
     "text": [
      "\n",
      "Summary Statistics for Data 2021:\n"
     ]
    },
    {
     "name": "stderr",
     "output_type": "stream",
     "text": [
      "[Stage 3:===================================================>       (7 + 1) / 8]\r"
     ]
    },
    {
     "name": "stdout",
     "output_type": "stream",
     "text": [
      "+-------+------------+------------------+------------------+-------+------------+-------+------------+------------------+------------------+-----------------+------------------+------------------+------------------+-----------------+-----------------+------------------+-----------------+--------------------+-----------------+--------------------+------------------+------------------+------------------+-----------------+------------------+------------------+-----------------+-------------------+-----------------------+--------------------+-----------------+------------------+\n",
      "|summary|AIRLINE_CODE|          DOT_CODE|         FL_NUMBER| ORIGIN| ORIGIN_CITY|   DEST|   DEST_CITY|      CRS_DEP_TIME|          DEP_TIME|        DEP_DELAY|          TAXI_OUT|        WHEELS_OFF|         WHEELS_ON|          TAXI_IN|     CRS_ARR_TIME|          ARR_TIME|        ARR_DELAY|           CANCELLED|CANCELLATION_CODE|            DIVERTED|  CRS_ELAPSED_TIME|      ELAPSED_TIME|          AIR_TIME|         DISTANCE| DELAY_DUE_CARRIER| DELAY_DUE_WEATHER|    DELAY_DUE_NAS| DELAY_DUE_SECURITY|DELAY_DUE_LATE_AIRCRAFT|             FL_YEAR|         FL_MONTH|            FL_DAY|\n",
      "+-------+------------+------------------+------------------+-------+------------+-------+------------+------------------+------------------+-----------------+------------------+------------------+------------------+-----------------+-----------------+------------------+-----------------+--------------------+-----------------+--------------------+------------------+------------------+------------------+-----------------+------------------+------------------+-----------------+-------------------+-----------------------+--------------------+-----------------+------------------+\n",
      "|  count|     5995397|           5995397|           5995397|5995397|     5995397|5995397|     5995397|           5995397|           5894741|          5894653|           5892936|           5892936|           5890964|          5890964|          5995397|           5890981|          5878219|             5995397|          5995397|             5995397|           5995396|           5878219|           5878219|          5995397|           1010331|           1010331|          1010331|            1010331|                1010331|             5995397|          5995397|           5995397|\n",
      "|   mean|        NULL| 19994.62535725324| 2686.286949804992|   NULL|        NULL|   NULL|        NULL|1324.0807561200702|1326.9167615676413|9.398859610565712|15.964395846145283|1349.2517755156343|1472.5506358551843|7.642038552603615|1499.694325163121|1477.4710590646957|3.090639018382949|0.017189854149775235|             NULL|0.002354639734449...|143.01590220228988|136.79875435059498|113.20381003157588|818.8651643919494|26.919171043945003|4.5331708123377386|11.01628575189715|0.22368906823605333|     23.239829323261386|              2021.0|6.966869750243395|15.795543647901882|\n",
      "| stddev|        NULL|376.75815457845255|1797.8441145901745|   NULL|        NULL|   NULL|        NULL|  476.417978375888|489.11102562489765|47.56595753778005|  8.37664054724398|490.29110031372255| 512.5407232424554|6.353749272921025|497.5356090868964| 516.7936755675644|49.31044986144339| 0.12997832850892554|             NULL| 0.04846747154522446| 71.04055303192483| 70.98968082553658| 69.44604674741565|587.7995026730938| 73.78517309335521|  34.6782253406798|28.94063533126487|  4.340961449407907|       53.8854057326529|5.802936746697241...|3.302396371706698| 8.786719044747075|\n",
      "|    min|          9E|             19393|                 1|    ABE|Aberdeen, SD|    ABE|Aberdeen, SD|                 1|               1.0|           -105.0|               1.0|               1.0|               1.0|              1.0|                1|               1.0|           -107.0|                 0.0|                A|                 0.0|            -292.0|              14.0|               8.0|             31.0|               0.0|               0.0|              0.0|                0.0|                    0.0|                2021|                1|                 1|\n",
      "|    max|          YX|             20452|              8808|    YUM|    Yuma, AZ|    YUM|    Yuma, AZ|              2359|            2400.0|           3095.0|             256.0|            2400.0|            2400.0|            251.0|             2400|            2400.0|           3089.0|                 1.0|                Z|                 1.0|            1312.0|             794.0|             711.0|           5812.0|            3089.0|            1740.0|           1642.0|              983.0|                 2093.0|                2021|               12|                31|\n",
      "+-------+------------+------------------+------------------+-------+------------+-------+------------+------------------+------------------+-----------------+------------------+------------------+------------------+-----------------+-----------------+------------------+-----------------+--------------------+-----------------+--------------------+------------------+------------------+------------------+-----------------+------------------+------------------+-----------------+-------------------+-----------------------+--------------------+-----------------+------------------+\n",
      "\n"
     ]
    },
    {
     "name": "stderr",
     "output_type": "stream",
     "text": [
      "                                                                                \r"
     ]
    }
   ],
   "source": [
    "# Summary statistics\n",
    "print(\"\\nSummary Statistics for Data 2021:\")\n",
    "data_2021.describe().show()"
   ]
  },
  {
   "cell_type": "code",
   "execution_count": 8,
   "metadata": {},
   "outputs": [
    {
     "name": "stdout",
     "output_type": "stream",
     "text": [
      "Missing Values in Data 2021:\n"
     ]
    },
    {
     "name": "stderr",
     "output_type": "stream",
     "text": [
      "                                                                                \r"
     ]
    },
    {
     "name": "stdout",
     "output_type": "stream",
     "text": [
      "FL_DATE: 0 missing values\n"
     ]
    },
    {
     "name": "stderr",
     "output_type": "stream",
     "text": [
      "                                                                                \r"
     ]
    },
    {
     "name": "stdout",
     "output_type": "stream",
     "text": [
      "AIRLINE_CODE: 0 missing values\n"
     ]
    },
    {
     "name": "stderr",
     "output_type": "stream",
     "text": [
      "                                                                                \r"
     ]
    },
    {
     "name": "stdout",
     "output_type": "stream",
     "text": [
      "DOT_CODE: 0 missing values\n"
     ]
    },
    {
     "name": "stderr",
     "output_type": "stream",
     "text": [
      "                                                                                \r"
     ]
    },
    {
     "name": "stdout",
     "output_type": "stream",
     "text": [
      "FL_NUMBER: 0 missing values\n"
     ]
    },
    {
     "name": "stderr",
     "output_type": "stream",
     "text": [
      "                                                                                \r"
     ]
    },
    {
     "name": "stdout",
     "output_type": "stream",
     "text": [
      "ORIGIN: 0 missing values\n"
     ]
    },
    {
     "name": "stderr",
     "output_type": "stream",
     "text": [
      "                                                                                \r"
     ]
    },
    {
     "name": "stdout",
     "output_type": "stream",
     "text": [
      "ORIGIN_CITY: 0 missing values\n"
     ]
    },
    {
     "name": "stderr",
     "output_type": "stream",
     "text": [
      "                                                                                \r"
     ]
    },
    {
     "name": "stdout",
     "output_type": "stream",
     "text": [
      "DEST: 0 missing values\n"
     ]
    },
    {
     "name": "stderr",
     "output_type": "stream",
     "text": [
      "                                                                                \r"
     ]
    },
    {
     "name": "stdout",
     "output_type": "stream",
     "text": [
      "DEST_CITY: 0 missing values\n"
     ]
    },
    {
     "name": "stderr",
     "output_type": "stream",
     "text": [
      "                                                                                \r"
     ]
    },
    {
     "name": "stdout",
     "output_type": "stream",
     "text": [
      "CRS_DEP_TIME: 0 missing values\n"
     ]
    },
    {
     "name": "stderr",
     "output_type": "stream",
     "text": [
      "                                                                                \r"
     ]
    },
    {
     "name": "stdout",
     "output_type": "stream",
     "text": [
      "DEP_TIME: 100656 missing values\n"
     ]
    },
    {
     "name": "stderr",
     "output_type": "stream",
     "text": [
      "                                                                                \r"
     ]
    },
    {
     "name": "stdout",
     "output_type": "stream",
     "text": [
      "DEP_DELAY: 100744 missing values\n"
     ]
    },
    {
     "name": "stderr",
     "output_type": "stream",
     "text": [
      "                                                                                \r"
     ]
    },
    {
     "name": "stdout",
     "output_type": "stream",
     "text": [
      "TAXI_OUT: 102461 missing values\n"
     ]
    },
    {
     "name": "stderr",
     "output_type": "stream",
     "text": [
      "                                                                                \r"
     ]
    },
    {
     "name": "stdout",
     "output_type": "stream",
     "text": [
      "WHEELS_OFF: 102461 missing values\n"
     ]
    },
    {
     "name": "stderr",
     "output_type": "stream",
     "text": [
      "                                                                                \r"
     ]
    },
    {
     "name": "stdout",
     "output_type": "stream",
     "text": [
      "WHEELS_ON: 104433 missing values\n"
     ]
    },
    {
     "name": "stderr",
     "output_type": "stream",
     "text": [
      "                                                                                \r"
     ]
    },
    {
     "name": "stdout",
     "output_type": "stream",
     "text": [
      "TAXI_IN: 104433 missing values\n"
     ]
    },
    {
     "name": "stderr",
     "output_type": "stream",
     "text": [
      "                                                                                \r"
     ]
    },
    {
     "name": "stdout",
     "output_type": "stream",
     "text": [
      "CRS_ARR_TIME: 0 missing values\n"
     ]
    },
    {
     "name": "stderr",
     "output_type": "stream",
     "text": [
      "                                                                                \r"
     ]
    },
    {
     "name": "stdout",
     "output_type": "stream",
     "text": [
      "ARR_TIME: 104416 missing values\n"
     ]
    },
    {
     "name": "stderr",
     "output_type": "stream",
     "text": [
      "                                                                                \r"
     ]
    },
    {
     "name": "stdout",
     "output_type": "stream",
     "text": [
      "ARR_DELAY: 117178 missing values\n"
     ]
    },
    {
     "name": "stderr",
     "output_type": "stream",
     "text": [
      "                                                                                \r"
     ]
    },
    {
     "name": "stdout",
     "output_type": "stream",
     "text": [
      "CANCELLED: 0 missing values\n"
     ]
    },
    {
     "name": "stderr",
     "output_type": "stream",
     "text": [
      "                                                                                \r"
     ]
    },
    {
     "name": "stdout",
     "output_type": "stream",
     "text": [
      "CANCELLATION_CODE: 0 missing values\n"
     ]
    },
    {
     "name": "stderr",
     "output_type": "stream",
     "text": [
      "                                                                                \r"
     ]
    },
    {
     "name": "stdout",
     "output_type": "stream",
     "text": [
      "DIVERTED: 0 missing values\n"
     ]
    },
    {
     "name": "stderr",
     "output_type": "stream",
     "text": [
      "                                                                                \r"
     ]
    },
    {
     "name": "stdout",
     "output_type": "stream",
     "text": [
      "CRS_ELAPSED_TIME: 1 missing values\n"
     ]
    },
    {
     "name": "stderr",
     "output_type": "stream",
     "text": [
      "                                                                                \r"
     ]
    },
    {
     "name": "stdout",
     "output_type": "stream",
     "text": [
      "ELAPSED_TIME: 117178 missing values\n"
     ]
    },
    {
     "name": "stderr",
     "output_type": "stream",
     "text": [
      "                                                                                \r"
     ]
    },
    {
     "name": "stdout",
     "output_type": "stream",
     "text": [
      "AIR_TIME: 117178 missing values\n"
     ]
    },
    {
     "name": "stderr",
     "output_type": "stream",
     "text": [
      "                                                                                \r"
     ]
    },
    {
     "name": "stdout",
     "output_type": "stream",
     "text": [
      "DISTANCE: 0 missing values\n"
     ]
    },
    {
     "name": "stderr",
     "output_type": "stream",
     "text": [
      "                                                                                \r"
     ]
    },
    {
     "name": "stdout",
     "output_type": "stream",
     "text": [
      "DELAY_DUE_CARRIER: 4985066 missing values\n"
     ]
    },
    {
     "name": "stderr",
     "output_type": "stream",
     "text": [
      "                                                                                \r"
     ]
    },
    {
     "name": "stdout",
     "output_type": "stream",
     "text": [
      "DELAY_DUE_WEATHER: 4985066 missing values\n"
     ]
    },
    {
     "name": "stderr",
     "output_type": "stream",
     "text": [
      "                                                                                \r"
     ]
    },
    {
     "name": "stdout",
     "output_type": "stream",
     "text": [
      "DELAY_DUE_NAS: 4985066 missing values\n"
     ]
    },
    {
     "name": "stderr",
     "output_type": "stream",
     "text": [
      "                                                                                \r"
     ]
    },
    {
     "name": "stdout",
     "output_type": "stream",
     "text": [
      "DELAY_DUE_SECURITY: 4985066 missing values\n"
     ]
    },
    {
     "name": "stderr",
     "output_type": "stream",
     "text": [
      "                                                                                \r"
     ]
    },
    {
     "name": "stdout",
     "output_type": "stream",
     "text": [
      "DELAY_DUE_LATE_AIRCRAFT: 4985066 missing values\n"
     ]
    },
    {
     "name": "stderr",
     "output_type": "stream",
     "text": [
      "                                                                                \r"
     ]
    },
    {
     "name": "stdout",
     "output_type": "stream",
     "text": [
      "FL_YEAR: 0 missing values\n"
     ]
    },
    {
     "name": "stderr",
     "output_type": "stream",
     "text": [
      "                                                                                \r"
     ]
    },
    {
     "name": "stdout",
     "output_type": "stream",
     "text": [
      "FL_MONTH: 0 missing values\n"
     ]
    },
    {
     "name": "stderr",
     "output_type": "stream",
     "text": [
      "[Stage 102:=================================================>       (7 + 1) / 8]\r"
     ]
    },
    {
     "name": "stdout",
     "output_type": "stream",
     "text": [
      "FL_DAY: 0 missing values\n"
     ]
    },
    {
     "name": "stderr",
     "output_type": "stream",
     "text": [
      "                                                                                \r"
     ]
    }
   ],
   "source": [
    "# Check for missing values\n",
    "print(\"Missing Values in Data 2021:\")\n",
    "for df_col in data_2021.columns:\n",
    "    missing_count = data_2021.filter(data_2021[df_col].isNull()).count()\n",
    "    print(f\"{df_col}: {missing_count} missing values\")"
   ]
  },
  {
   "cell_type": "markdown",
   "metadata": {},
   "source": [
    "# DATA PREPROCESSING / FEATURE SELECTION"
   ]
  },
  {
   "cell_type": "code",
   "execution_count": 95,
   "metadata": {},
   "outputs": [],
   "source": [
    "# Sort data by FL_DATE column in ascending order\n",
    "preprocessed_data_2021 = data_2021.sort(\"FL_DATE\")\n",
    "\n",
    "# Remove rows that have cancelled flights\n",
    "preprocessed_data_2021 = preprocessed_data_2021.filter(data_2021.CANCELLED == 0)\n",
    "\n",
    "# Add column for day of the week, based on FL_DATE\n",
    "preprocessed_data_2021 = preprocessed_data_2021.withColumn(\"DAY_OF_WEEK\", dayofweek(col(\"FL_DATE\")))"
   ]
  },
  {
   "cell_type": "code",
   "execution_count": 96,
   "metadata": {},
   "outputs": [],
   "source": [
    "# Keep these columns in a new dataframe (Domain Knowledge Feature Selection)\n",
    "preprocessed_data_2021 = preprocessed_data_2021.select(\"FL_YEAR\", \"FL_MONTH\", \"FL_DAY\", \"DAY_OF_WEEK\", \"AIRLINE_CODE\", \"ORIGIN\", \"DEST\", \"CRS_DEP_TIME\", target_col)\n",
    "\n",
    "preprocessed_data_2021 = preprocessed_data_2021.dropna()"
   ]
  },
  {
   "cell_type": "code",
   "execution_count": 97,
   "metadata": {},
   "outputs": [
    {
     "name": "stderr",
     "output_type": "stream",
     "text": [
      "                                                                                \r"
     ]
    },
    {
     "data": {
      "text/plain": [
       "5892337"
      ]
     },
     "execution_count": 97,
     "metadata": {},
     "output_type": "execute_result"
    }
   ],
   "source": [
    "preprocessed_data_2021.count()"
   ]
  },
  {
   "cell_type": "code",
   "execution_count": 13,
   "metadata": {},
   "outputs": [
    {
     "name": "stderr",
     "output_type": "stream",
     "text": [
      "                                                                                \r"
     ]
    }
   ],
   "source": [
    "# Convert ORIGIN to OneHotEncoded vector\n",
    "indexer = StringIndexer(inputCols=['AIRLINE_CODE', 'ORIGIN', 'DEST'], outputCols=['INDEXED_AIRLINE_CODE', 'INDEXED_ORIGIN', 'INDEXED_DEST'])\n",
    "preprocessed_data_2021 = indexer.fit(preprocessed_data_2021).transform(preprocessed_data_2021)\n",
    "\n",
    "encoder = OneHotEncoder(inputCols=['INDEXED_AIRLINE_CODE', 'INDEXED_ORIGIN', 'INDEXED_DEST'], outputCols=['ONEHOT_AIRLINE_CODE', 'ONEHOT_ORIGIN', 'ONEHOT_DEST'])\n",
    "preprocessed_data_2021 = encoder.fit(preprocessed_data_2021).transform(preprocessed_data_2021)"
   ]
  },
  {
   "cell_type": "code",
   "execution_count": 14,
   "metadata": {},
   "outputs": [],
   "source": [
    "# Keep these onehot encoded columns only\n",
    "preprocessed_data_2021 = preprocessed_data_2021.select(\"FL_YEAR\", \"FL_MONTH\", \"FL_DAY\", \"DAY_OF_WEEK\", 'ONEHOT_AIRLINE_CODE', 'ONEHOT_ORIGIN', 'ONEHOT_DEST', target_col)"
   ]
  },
  {
   "cell_type": "code",
   "execution_count": 15,
   "metadata": {},
   "outputs": [],
   "source": [
    "# Take only first 10,000 rows, due to limited CPU power. If you have a better CPU or running this on AWS, you can comment this line out.\n",
    "preprocessed_data_2021 = preprocessed_data_2021.limit(10000)"
   ]
  },
  {
   "cell_type": "code",
   "execution_count": 16,
   "metadata": {},
   "outputs": [
    {
     "name": "stderr",
     "output_type": "stream",
     "text": [
      "[Stage 116:===================================>                     (5 + 3) / 8]\r"
     ]
    },
    {
     "name": "stdout",
     "output_type": "stream",
     "text": [
      "+-------+--------+------+-----------+-------------------+-----------------+-----------------+---------+\n",
      "|FL_YEAR|FL_MONTH|FL_DAY|DAY_OF_WEEK|ONEHOT_AIRLINE_CODE|ONEHOT_ORIGIN    |ONEHOT_DEST      |DEP_DELAY|\n",
      "+-------+--------+------+-----------+-------------------+-----------------+-----------------+---------+\n",
      "|2021   |1       |1     |6          |(16,[6],[1.0])     |(370,[10],[1.0]) |(370,[76],[1.0]) |0.0      |\n",
      "|2021   |1       |1     |6          |(16,[6],[1.0])     |(370,[10],[1.0]) |(370,[97],[1.0]) |-2.0     |\n",
      "|2021   |1       |1     |6          |(16,[6],[1.0])     |(370,[139],[1.0])|(370,[10],[1.0]) |-4.0     |\n",
      "|2021   |1       |1     |6          |(16,[6],[1.0])     |(370,[97],[1.0]) |(370,[21],[1.0]) |-5.0     |\n",
      "|2021   |1       |1     |6          |(16,[6],[1.0])     |(370,[10],[1.0]) |(370,[148],[1.0])|14.0     |\n",
      "+-------+--------+------+-----------+-------------------+-----------------+-----------------+---------+\n",
      "only showing top 5 rows\n",
      "\n"
     ]
    },
    {
     "name": "stderr",
     "output_type": "stream",
     "text": [
      "                                                                                \r"
     ]
    }
   ],
   "source": [
    "preprocessed_data_2021.show(5, truncate=False)"
   ]
  },
  {
   "cell_type": "code",
   "execution_count": 17,
   "metadata": {},
   "outputs": [
    {
     "name": "stderr",
     "output_type": "stream",
     "text": [
      "[Stage 120:>                                                        (0 + 1) / 1]\r"
     ]
    },
    {
     "name": "stdout",
     "output_type": "stream",
     "text": [
      "+-------+-------+--------+------+-----------+------------------+\n",
      "|summary|FL_YEAR|FL_MONTH|FL_DAY|DAY_OF_WEEK|         DEP_DELAY|\n",
      "+-------+-------+--------+------+-----------+------------------+\n",
      "|  count|  10000|   10000| 10000|      10000|             10000|\n",
      "|   mean| 2021.0|     1.0|   1.0|        6.0|            5.6873|\n",
      "| stddev|    0.0|     0.0|   0.0|        0.0|43.635083599806194|\n",
      "|    min|   2021|       1|     1|          6|             -39.0|\n",
      "|    max|   2021|       1|     1|          6|            1779.0|\n",
      "+-------+-------+--------+------+-----------+------------------+\n",
      "\n"
     ]
    },
    {
     "name": "stderr",
     "output_type": "stream",
     "text": [
      "                                                                                \r"
     ]
    }
   ],
   "source": [
    "preprocessed_data_2021.describe().show()"
   ]
  },
  {
   "cell_type": "code",
   "execution_count": 18,
   "metadata": {},
   "outputs": [],
   "source": [
    "# Vectorization\n",
    "feature_cols = list(set(preprocessed_data_2021.columns) - set([target_col])) # All columns except ARR_DELAY (target variable)\n",
    "vector_assembler = VectorAssembler(inputCols=feature_cols, outputCol=\"features\")\n",
    "vectorized_data_2021 = vector_assembler.transform(preprocessed_data_2021)"
   ]
  },
  {
   "cell_type": "code",
   "execution_count": 19,
   "metadata": {},
   "outputs": [
    {
     "name": "stderr",
     "output_type": "stream",
     "text": [
      "[Stage 124:>                                                        (0 + 4) / 4]\r"
     ]
    },
    {
     "name": "stdout",
     "output_type": "stream",
     "text": [
      "+---------------------------------------------------------------+---------+\n",
      "|features                                                       |DEP_DELAY|\n",
      "+---------------------------------------------------------------+---------+\n",
      "|(760,[0,1,78,378,388,399,759],[1.0,6.0,1.0,1.0,2021.0,1.0,1.0])|0.0      |\n",
      "|(760,[0,1,48,383,388,408,759],[1.0,6.0,1.0,1.0,2021.0,1.0,1.0])|-5.0     |\n",
      "|(760,[0,1,99,378,388,399,759],[1.0,6.0,1.0,1.0,2021.0,1.0,1.0])|-2.0     |\n",
      "|(760,[0,1,7,383,388,397,759],[1.0,6.0,1.0,1.0,2021.0,1.0,1.0]) |3.0      |\n",
      "|(760,[0,1,12,378,388,528,759],[1.0,6.0,1.0,1.0,2021.0,1.0,1.0])|-4.0     |\n",
      "+---------------------------------------------------------------+---------+\n",
      "only showing top 5 rows\n",
      "\n"
     ]
    },
    {
     "name": "stderr",
     "output_type": "stream",
     "text": [
      "                                                                                \r"
     ]
    }
   ],
   "source": [
    "vectorized_data_2021.select(\"features\", target_col).show(5, truncate=False)"
   ]
  },
  {
   "cell_type": "code",
   "execution_count": 20,
   "metadata": {},
   "outputs": [
    {
     "name": "stderr",
     "output_type": "stream",
     "text": [
      "                                                                                \r"
     ]
    }
   ],
   "source": [
    "# Standardization\n",
    "scaler = StandardScaler(withMean=True, withStd=True, inputCol=\"features\", outputCol=\"scaled_features\")\n",
    "scaled_data_2021 = scaler.fit(vectorized_data_2021).transform(vectorized_data_2021)"
   ]
  },
  {
   "cell_type": "code",
   "execution_count": 21,
   "metadata": {},
   "outputs": [
    {
     "name": "stderr",
     "output_type": "stream",
     "text": [
      "[Stage 138:>                                                        (0 + 4) / 4]\r"
     ]
    },
    {
     "name": "stdout",
     "output_type": "stream",
     "text": [
      "+-----------------------------------------------------------------------------------------------------------------------------------------------------------------------------------------------------------------------------------------------------------------------------------------------------------------------------------------------------------------------------------------------------------------------------------------------------------------------------------------------------------------------------------------------------------------------------------------------------------------------------------------------------------------------------------------------------------------------------------------------------------------------------------------------------------------------------------------------------------------------------------------------------------------------------------------------------------------------------------------------------------------------------------------------------------------------------------------------------------------------------------------------------------------------------------------------------------------------------------------------------------------------------------------------------------------------------------------------------------------------------------------------------------------------------------------------------------------------------------------------------------------------------------------------------------------------------------------------------------------------------------------------------------------------------------------------------------------------------------------------------------------------------------------------------------------------------------------------------------------------------------------------------------------------------------------------------------------------------------------------------------------------------------------------------------------------------------------------------------------------------------------------------------------------------------------------------------------------------------------------------------------------------------------------------------------------------------------------------------------------------------------------------------------------------------------------------------------------------------------------------------------------------------------------------------------------------------------------------------------------------------------------------------------------------------------------------------------------------------------------------------------------------------------------------------------------------------------------------------------------------------------------------------------------------------------------------------------------------------------------------------------------------------------------------------------------------------------------------------------------------------------------------------------------------------------------------------------------------------------------------------------------------------------------------------------------------------------------------------------------------------------------------------------------------------------------------------------------------------------------------------------------------------------------------------------------------------------------------------------------------------------------------------------------------------------------------------------------------------------------------------------------------------------------------------------------------------------------------------------------------------------------------------------------------------------------------------------------------------------------------------------------------------------------------------------------------------------------------------------------------------------------------------------------------------------------------------------------------------------------------------------------------------------------------------------------------------------------------------------------------------------------------------------------------------------------------------------------------------------------------------------------------------------------------------------------------------------------------------------------------------------------------------------------------------------------------------------------------------------------------------------------------------------------------------------------------------------------------------------------------------------------------------------------------------------------------------------------------------------------------------------------------------------------------------------------------------------------------------------------------------------------------------------------------------------------------------------------------------------------------------------------------------------------------------------------------------------------------------------------------------------------------------------------------------------------------------------------------------------------------------------------------------------------------------------------------------------------------------------------------------------------------------------------------------------------------------------------------------------------------------------------------------------------------------------------------------------------------------------------------------------------------------------------------------------------------------------------------------------------------------------------------------------------------------------------------------------------------------------------------------------------------------------------------------------------------------------------------------------------------------------------------------------------------------------------------------------------------------------------------------------------------------------------------------------------------------------------------------------------------------------------------------------------------------------------------------------------------------------------------------------------------------------------------------------------------------------------------------------------------------------------------------------------------------------------------------------------------------------------------------------------------------------------------------------------------------------------------------------------------------------------------------------------------------------------------------------------------------------------------------------------------------------------------------------------------------------------------------------------------------------------------------------------------------------------------------------------------------------------------------------------------------------------------------------------------------------------------------------------------------------------------------------------------------------------------------------------------------------------------------------------------------------------------------------------------------------------------------------------------------------------------------------------------------------------------------------------------------------------------------------------------------------------------------------------------------------------------------------------------------------------------------------------------------------------------------------------------------------------------------------------------------------------------------------------------------------------------------------------------------------------------------------------------------------------------------------------------------------------------------------------------------------------------------------------------------------------------------------------------------------------------------------------------------------------------------------------------------------------------------------------------------------------------------------------------------------------------------------------------------------------------------------------------------------------------------------------------------------------------------------------------------------------------------------------------------------------------------------------------------------------------------------------------------------------------------------------------------------------------------------------------------------------------------------------------------------------------------------------------------------------------------------------------------------------------------------------------------------------------------------------------------------------------------------------------------------------------------------------------------------------------------------------------------------------------------------------------------------------------------------------------------------------------------------------------------------------------------------------------------------------------------------------------------------------------------------------------------------------------------------------------------------------------------------------------------------------------------------------------------------------------------------------------------------------------------------------------------------------------------------------------------------------------------------------------------------------------------------------------------------------------------------------------------------------------------------------------------------------------------------------------------------------------------------------------------------------------------------------------------------------------------------------------------------------------------------------------------------------------------------------------------------------------------------------------------------------------------------------------------------------------------------------------------------------------------------------------------------------------------------------------------------------------------------------------------------------------------------------------------------------------------------------------------------------------------------------------------------------------------------------------------------------------------------------------------------------------------------------------------------------------------------------------------------------------------------------------------------------------------------------------------------------------------------------------------------------------------------------------------------------------------------------------------------------------------------------------------------------------------------------------------------------------------------------------------------------------------------------------------------------------------------------------------------------------------------------------------------------------------------------------------------------------------------------------------------------------------------------------------------------------------------------------------------------------------------------------------------------------------------------------------------------------------------------------------------------------------------------------------------------------------------------------------------------------------------------------------------------------------------------------------------------------------------------------------------------------------------------------------------------------------------------------------------------------------------------------------------------------------------------------------------------------------------------------------------------------------------------------------------------------+---------+\n",
      "|scaled_features                                                                                                                                                                                                                                                                                                                                                                                                                                                                                                                                                                                                                                                                                                                                                                                                                                                                                                                                                                                                                                                                                                                                                                                                                                                                                                                                                                                                                                                                                                                                                                                                                                                                                                                                                                                                                                                                                                                                                                                                                                                                                                                                                                                                                                                                                                                                                                                                                                                                                                                                                                                                                                                                                                                                                                                                                                                                                                                                                                                                                                                                                                                                                                                                                                                                                                                                                                                                                                                                                                                                                                                                                                                                                                                                                                                                                                                                                                                                                                                                                                                                                                                                                                                                                                                                                                                                                                                                                                                                                                                                                                                                                                                                                                                                                                                                                                                                                                                                                                                                                                                                                                                                                                                                                                                                                                                                                                                                                                                                                                                                                                                                                                                                                                                                                                                                                                                                                                                                                                                                                                                                                                                                                                                                                                                                                                                                                                                                                                                                                                                                                                                                                                                                                                                                                                                                                                                                                                                                                                                                                                                                                                                                                                                                                                                                                                                                                                                                                                                                                                                                                                                                                                                                                                                                                                                                                                                                                                                                                                                                                                                                                                                                                                                                                                                                                                                                                                                                                                                                                                                                                                                                                                                                                                                                                                                                                                                                                                                                                                                                                                                                                                                                                                                                                                                                                                                                                                                                                                                                                                                                                                                                                                                                                                                                                                                                                                                                                                                                                                                                                                                                                                                                                                                                                                                                                                                                                                                                                                                                                                                                                                                                                                                                                                                                                                                                                                                                                                                                                                                                                                                                                                                                                                                                                                                                                                                                                                                                                                                                                                                                                                                                                                                                                                                                                                                                                                                                                                                                                                                                                                                                                                                                                                                                                                                                                                                                                                                                                                                                                                                                                                                                                                                                                                                                                              |DEP_DELAY|\n",
      "+-----------------------------------------------------------------------------------------------------------------------------------------------------------------------------------------------------------------------------------------------------------------------------------------------------------------------------------------------------------------------------------------------------------------------------------------------------------------------------------------------------------------------------------------------------------------------------------------------------------------------------------------------------------------------------------------------------------------------------------------------------------------------------------------------------------------------------------------------------------------------------------------------------------------------------------------------------------------------------------------------------------------------------------------------------------------------------------------------------------------------------------------------------------------------------------------------------------------------------------------------------------------------------------------------------------------------------------------------------------------------------------------------------------------------------------------------------------------------------------------------------------------------------------------------------------------------------------------------------------------------------------------------------------------------------------------------------------------------------------------------------------------------------------------------------------------------------------------------------------------------------------------------------------------------------------------------------------------------------------------------------------------------------------------------------------------------------------------------------------------------------------------------------------------------------------------------------------------------------------------------------------------------------------------------------------------------------------------------------------------------------------------------------------------------------------------------------------------------------------------------------------------------------------------------------------------------------------------------------------------------------------------------------------------------------------------------------------------------------------------------------------------------------------------------------------------------------------------------------------------------------------------------------------------------------------------------------------------------------------------------------------------------------------------------------------------------------------------------------------------------------------------------------------------------------------------------------------------------------------------------------------------------------------------------------------------------------------------------------------------------------------------------------------------------------------------------------------------------------------------------------------------------------------------------------------------------------------------------------------------------------------------------------------------------------------------------------------------------------------------------------------------------------------------------------------------------------------------------------------------------------------------------------------------------------------------------------------------------------------------------------------------------------------------------------------------------------------------------------------------------------------------------------------------------------------------------------------------------------------------------------------------------------------------------------------------------------------------------------------------------------------------------------------------------------------------------------------------------------------------------------------------------------------------------------------------------------------------------------------------------------------------------------------------------------------------------------------------------------------------------------------------------------------------------------------------------------------------------------------------------------------------------------------------------------------------------------------------------------------------------------------------------------------------------------------------------------------------------------------------------------------------------------------------------------------------------------------------------------------------------------------------------------------------------------------------------------------------------------------------------------------------------------------------------------------------------------------------------------------------------------------------------------------------------------------------------------------------------------------------------------------------------------------------------------------------------------------------------------------------------------------------------------------------------------------------------------------------------------------------------------------------------------------------------------------------------------------------------------------------------------------------------------------------------------------------------------------------------------------------------------------------------------------------------------------------------------------------------------------------------------------------------------------------------------------------------------------------------------------------------------------------------------------------------------------------------------------------------------------------------------------------------------------------------------------------------------------------------------------------------------------------------------------------------------------------------------------------------------------------------------------------------------------------------------------------------------------------------------------------------------------------------------------------------------------------------------------------------------------------------------------------------------------------------------------------------------------------------------------------------------------------------------------------------------------------------------------------------------------------------------------------------------------------------------------------------------------------------------------------------------------------------------------------------------------------------------------------------------------------------------------------------------------------------------------------------------------------------------------------------------------------------------------------------------------------------------------------------------------------------------------------------------------------------------------------------------------------------------------------------------------------------------------------------------------------------------------------------------------------------------------------------------------------------------------------------------------------------------------------------------------------------------------------------------------------------------------------------------------------------------------------------------------------------------------------------------------------------------------------------------------------------------------------------------------------------------------------------------------------------------------------------------------------------------------------------------------------------------------------------------------------------------------------------------------------------------------------------------------------------------------------------------------------------------------------------------------------------------------------------------------------------------------------------------------------------------------------------------------------------------------------------------------------------------------------------------------------------------------------------------------------------------------------------------------------------------------------------------------------------------------------------------------------------------------------------------------------------------------------------------------------------------------------------------------------------------------------------------------------------------------------------------------------------------------------------------------------------------------------------------------------------------------------------------------------------------------------------------------------------------------------------------------------------------------------------------------------------------------------------------------------------------------------------------------------------------------------------------------------------------------------------------------------------------------------------------------------------------------------------------------------------------------------------------------------------------------------------------------------------------------------------------------------------------------------------------------------------------------------------------------------------------------------------------------------------------------------------------------------------------------------------------------------------------------------------------------------------------------------------------------------------------------------------------------------------------------------------------------------------------------------------------------------------------------------------------------------------------------------------------------------------------------------------------------------------------------------------------------------------------------------------------------------------------------------------------------------------------------------------------------------------------------------------------------------------------------------------------------------------------------------------------------------------------------------------------------------------------------------------------------------------------------------------------------------------------------------------------------------------------------------------------------------------------------------------------------------------------------------------------------------------------------------------------------------------------------------------------------------------------------------------------------------------------------------------------------------------------------------------------------------------------------------------------------------------------------------------------------------------------------------------------------------------------------------------------------------------------------------------------------------------------------------------------------------------------------------------------------------------------------------------------------------------------------------------------------------------------------------------------------------------------------------------------------------------------------------------------------------------------------------------------------------------------------------------------------------------------------------------------------------------------------------------------------------------------------------------------------------------------------------------------+---------+\n",
      "|[0.0,0.0,-0.24400934293702659,-0.24607274868534623,-0.23679552265192588,-0.1665726696224783,-0.1665726696224783,-0.17280952170814232,-0.1850126828970503,-0.1826876439178644,-0.15546062175360684,-0.1620800750830165,-0.15205347028886798,-0.1468082114008704,-0.1460958575438111,-0.15444563934751834,-0.14138543376625806,-0.11653600552543078,-0.11872036001444417,-0.11609447196746572,-0.09475770843280343,-0.13990675058078875,-0.1102022432301424,-0.09844838244715873,-0.07768921213458505,-0.12339734013867353,-0.10594088220702674,-0.12001293296101997,-0.10594088220702674,-0.09947864498432611,-0.0857493236680004,-0.09792934435920071,-0.11112804869665871,-0.09635609672386014,-0.09740764623852616,-0.09635609672386014,-0.08750677983752603,-0.07229563351163897,-0.08865964217599828,-0.10250973493215632,-0.07961976914133925,-0.06871478802878644,-0.07703520686197955,-0.07768921213458505,-0.06256898612167813,-0.08273978443963945,-0.07229563351163897,-0.07159351029705793,-0.05840597810280806,-0.06415970321641894,-0.08692479160438635,-0.06871478802878644,-0.07436305704712297,-0.07088457600619397,-0.055761356867017844,-0.05298661366266788,-0.06010528698780157,-0.07299114224538011,-0.06010528698780157,-0.05840597810280806,-0.06175851060219023,-0.054851856655318484,-0.06647558661576448,-0.057537769885347055,-0.05298661366266788,-0.05006011423872288,-0.054851856655318484,-0.036077167719207555,-0.051054059036031024,-0.03744092081629672,-0.05298661366266788,-0.044763909740218856,-0.03466008635163916,-0.051054059036031024,-0.05665643693268138,-0.04362827650010601,-0.054851856655318484,-0.03744092081629672,22.918622513029376,-0.04904623614378265,-0.06256898612167813,-0.04801116187751664,-0.045871656156726864,-0.044763909740218856,-0.04362827650010601,-0.04904623614378265,-0.04246251897770878,-0.05006011423872288,-0.03466008635163916,-0.04246251897770878,-0.028294176933755945,-0.038756975562240385,-0.031637017888873485,-0.028294176933755945,-0.04362827650010601,-0.038756975562240385,-0.02646545473264996,-0.030012008406365035,-0.03466008635163916,-0.031637017888873485,-0.04003003679930667,-0.044763909740218856,-0.028294176933755945,-0.030012008406365035,-0.03744092081629672,-0.03318284513619147,-0.030012008406365035,-0.04126408404259309,-0.030012008406365035,-0.044763909740218856,-0.038756975562240385,-0.03318284513619147,-0.02000300097533387,-0.03466008635163916,-0.038756975562240385,-0.03466008635163916,-0.030012008406365035,-0.036077167719207555,-0.03466008635163916,-0.044763909740218856,-0.031637017888873485,-0.03318284513619147,-0.03744092081629672,-0.03466008635163916,-0.028294176933755945,-0.014142842854277925,-0.017322240559621654,-0.030012008406365035,-0.03466008635163916,-0.031637017888873485,-0.02236515370056788,-0.04695348960844234,-0.031637017888873485,-0.036077167719207555,-0.031637017888873485,-0.030012008406365035,-0.028294176933755945,-0.02646545473264996,-0.031637017888873485,-0.028294176933755945,-0.028294176933755945,-0.028294176933755945,-0.028294176933755945,-0.03318284513619147,-0.028294176933755945,-0.030012008406365035,-0.024501024062435935,-0.02236515370056788,-0.028294176933755945,-0.028294176933755945,-0.02646545473264996,-0.028294176933755945,-0.030012008406365035,-0.030012008406365035,-0.030012008406365035,-0.02000300097533387,-0.02646545473264996,-0.014142842854277925,-0.031637017888873485,-0.024501024062435935,-0.017322240559621654,-0.028294176933755945,-0.024501024062435935,-0.02646545473264996,0.0,-0.02646545473264996,-0.02646545473264996,-0.030012008406365035,-0.024501024062435935,-0.024501024062435935,-0.024501024062435935,0.0,-0.024501024062435935,-0.03466008635163916,-0.02236515370056788,-0.02236515370056788,-0.02236515370056788,-0.04003003679930667,-0.02000300097533387,-0.02000300097533387,-0.017322240559621654,-0.024501024062435935,-0.02000300097533387,-0.02000300097533387,-0.02236515370056788,-0.017322240559621654,-0.024501024062435935,-0.024501024062435935,-0.02000300097533387,-0.030012008406365035,-0.014142842854277925,-0.02646545473264996,-0.02236515370056788,-0.02236515370056788,-0.024501024062435935,-0.017322240559621654,-0.02000300097533387,-0.017322240559621654,-0.02236515370056788,-0.014142842854277925,-0.031637017888873485,-0.024501024062435935,-0.02000300097533387,-0.02000300097533387,-0.017322240559621654,-0.017322240559621654,-0.024501024062435935,-0.02236515370056788,-0.017322240559621654,-0.02236515370056788,-0.017322240559621654,-0.017322240559621654,-0.02000300097533387,-0.017322240559621654,0.0,-0.014142842854277925,0.0,-0.02000300097533387,-0.01,-0.014142842854277925,-0.017322240559621654,-0.017322240559621654,-0.017322240559621654,-0.014142842854277925,-0.014142842854277925,-0.01,-0.014142842854277925,-0.02000300097533387,-0.014142842854277925,-0.017322240559621654,0.0,-0.017322240559621654,-0.01,-0.01,-0.014142842854277925,0.0,-0.014142842854277925,-0.014142842854277925,-0.01,0.0,-0.014142842854277925,-0.01,-0.01,-0.01,-0.014142842854277925,-0.014142842854277925,-0.014142842854277925,-0.014142842854277925,-0.014142842854277925,-0.014142842854277925,-0.014142842854277925,-0.01,-0.01,-0.014142842854277925,0.0,-0.014142842854277925,-0.014142842854277925,-0.014142842854277925,-0.014142842854277925,-0.01,-0.01,-0.01,-0.01,-0.014142842854277925,-0.014142842854277925,-0.01,-0.01,-0.01,0.0,-0.014142842854277925,-0.014142842854277925,-0.01,-0.014142842854277925,-0.01,0.0,-0.014142842854277925,-0.014142842854277925,-0.01,-0.01,-0.01,-0.01,0.0,0.0,0.0,-0.014142842854277925,-0.01,-0.01,-0.014142842854277925,-0.01,0.0,-0.01,-0.014142842854277925,-0.01,0.0,-0.014142842854277925,-0.01,-0.01,-0.01,0.0,0.0,-0.01,0.0,-0.01,-0.01,-0.01,-0.01,-0.01,-0.01,-0.01,-0.01,-0.014142842854277925,-0.01,0.0,-0.01,-0.017322240559621654,-0.01,-0.01,-0.01,-0.01,0.0,-0.01,-0.01,-0.01,0.0,-0.01,-0.01,-0.01,0.0,0.0,-0.01,0.0,-0.01,-0.01,0.0,0.0,-0.01,-0.01,-0.01,0.0,0.0,0.0,0.0,0.0,0.0,-0.01,0.0,-0.014142842854277925,-0.01,0.0,-0.01,0.0,-0.01,0.0,-0.01,0.0,0.0,0.0,0.0,-0.01,0.0,0.0,0.0,0.0,0.0,0.0,-0.01,0.0,0.0,0.0,0.0,0.0,0.0,-0.4522262445355063,-0.38001605175045755,-0.4195687122141992,-0.35797489979168434,-0.31022765367693744,0.0,4.300154423991705,-0.22477870197097002,-0.18873779499871673,-0.18731264316984636,-0.18530152997972202,-0.22256066447213235,-0.19099894506233633,-0.15101771962788957,-0.08025322242841672,-0.1764577209531396,0.0,-0.24377924168769177,-0.2524089028308502,-0.24239507671019309,-0.16530021998950947,-0.16498073847512204,-0.1743377843735494,-0.1875984213735909,-0.18151541614108194,-0.15444563934751834,-0.16401895657088722,6.575976188510601,-0.15410596564912288,-0.1468082114008704,-0.15646963817078435,-0.1443008800289642,-0.11741435766915949,-0.11609447196746572,-0.11386249491014895,-0.09203429039828893,-0.14466151017737713,-0.10785464843798498,-0.09740764623852616,-0.07703520686197955,-0.12255948865029458,-0.10642240438619965,-0.12213853602836552,-0.10545725944315962,-0.09998995000503749,-0.08455800017320876,-0.09947864498432611,-0.10973655326442525,-0.09529337567230584,-0.09998995000503749,-0.09688324508165085,-0.08455800017320876,-0.06871478802878644,-0.08923065994559935,-0.10399349364216474,-0.07768921213458505,-0.06571254060962411,-0.07703520686197955,-0.07703520686197955,-0.06175851060219023,-0.08273978443963945,-0.07229563351163897,-0.07016862415279304,-0.054851856655318484,-0.06175851060219023,-0.08455800017320876,-0.06871478802878644,-0.0736802238534214,-0.06871478802878644,-0.05202921299918296,-0.05298661366266788,-0.06093742254992414,-0.07299114224538011,-0.05840597810280806,-0.05665643693268138,-0.06175851060219023,-0.05392720664458539,-0.06647558661576448,-0.051054059036031024,-0.05298661366266788,-0.05392720664458539,-0.04801116187751664,-0.036077167719207555,-0.05006011423872288,-0.038756975562240385,-0.05202921299918296,-0.044763909740218856,-0.03744092081629672,-0.05202921299918296,-0.057537769885347055,-0.04246251897770878,-0.054851856655318484,-0.03744092081629672,-0.044763909740218856,-0.04801116187751664,-0.06175851060219023,-0.04801116187751664,-0.044763909740218856,-0.044763909740218856,-0.04362827650010601,-0.04695348960844234,-0.04003003679930667,-0.04801116187751664,-0.03466008635163916,-0.04246251897770878,-0.028294176933755945,-0.038756975562240385,-0.03318284513619147,-0.028294176933755945,-0.044763909740218856,-0.038756975562240385,-0.028294176933755945,-0.024501024062435935,-0.03466008635163916,-0.028294176933755945,-0.03466008635163916,-0.04126408404259309,-0.028294176933755945,-0.030012008406365035,-0.036077167719207555,-0.03318284513619147,-0.031637017888873485,-0.04246251897770878,-0.030012008406365035,-0.044763909740218856,-0.03744092081629672,-0.03318284513619147,-0.02000300097533387,-0.03466008635163916,-0.038756975562240385,-0.03466008635163916,-0.030012008406365035,-0.036077167719207555,-0.031637017888873485,-0.04362827650010601,-0.031637017888873485,-0.028294176933755945,-0.03744092081629672,-0.036077167719207555,-0.030012008406365035,-0.014142842854277925,-0.017322240559621654,-0.030012008406365035,-0.03318284513619147,-0.031637017888873485,-0.028294176933755945,-0.03318284513619147,-0.04801116187751664,-0.03744092081629672,-0.030012008406365035,-0.030012008406365035,-0.028294176933755945,-0.02646545473264996,-0.028294176933755945,-0.031637017888873485,-0.028294176933755945,-0.02646545473264996,-0.03318284513619147,-0.030012008406365035,-0.02646545473264996,-0.030012008406365035,-0.024501024062435935,-0.02236515370056788,-0.028294176933755945,-0.02646545473264996,-0.02646545473264996,-0.028294176933755945,-0.030012008406365035,-0.02646545473264996,-0.028294176933755945,-0.02000300097533387,-0.02646545473264996,-0.014142842854277925,-0.031637017888873485,-0.024501024062435935,-0.017322240559621654,-0.028294176933755945,-0.024501024062435935,-0.024501024062435935,0.0,-0.02646545473264996,-0.02646545473264996,-0.031637017888873485,-0.024501024062435935,-0.02646545473264996,-0.024501024062435935,0.0,-0.02236515370056788,-0.02236515370056788,-0.024501024062435935,-0.031637017888873485,-0.02236515370056788,-0.02000300097533387,-0.04003003679930667,-0.02000300097533387,-0.017322240559621654,-0.02236515370056788,-0.02000300097533387,-0.02000300097533387,-0.02236515370056788,-0.014142842854277925,-0.02236515370056788,-0.024501024062435935,-0.02000300097533387,-0.030012008406365035,-0.014142842854277925,-0.024501024062435935,-0.014142842854277925,-0.02236515370056788,-0.017322240559621654,-0.02236515370056788,-0.02000300097533387,-0.017322240559621654,-0.02236515370056788,-0.024501024062435935,-0.014142842854277925,-0.031637017888873485,-0.02000300097533387,-0.02000300097533387,-0.017322240559621654,-0.017322240559621654,-0.02236515370056788,-0.02236515370056788,-0.017322240559621654,-0.02236515370056788,-0.017322240559621654,-0.01,-0.02000300097533387,-0.017322240559621654,0.0,-0.014142842854277925,-0.02000300097533387,-0.01,0.0,-0.017322240559621654,-0.014142842854277925,-0.017322240559621654,-0.014142842854277925,-0.014142842854277925,-0.014142842854277925,-0.01,-0.01,-0.02000300097533387,-0.014142842854277925,-0.014142842854277925,0.0,-0.017322240559621654,-0.01,-0.01,-0.014142842854277925,0.0,-0.014142842854277925,-0.014142842854277925,-0.014142842854277925,0.0,0.0,-0.01,-0.01,-0.01,-0.014142842854277925,-0.014142842854277925,-0.014142842854277925,-0.014142842854277925,-0.01,-0.014142842854277925,-0.014142842854277925,-0.01,-0.01,0.0,-0.014142842854277925,-0.014142842854277925,-0.01,-0.014142842854277925,-0.01,-0.01,-0.01,-0.01,-0.01,-0.01,-0.01,-0.014142842854277925,-0.01,-0.01,0.0,-0.014142842854277925,-0.01,-0.01,-0.014142842854277925,0.0,-0.01,-0.014142842854277925,-0.014142842854277925,-0.01,-0.01,-0.01,-0.01,0.0,0.0,-0.014142842854277925,-0.01,0.0,-0.014142842854277925,-0.01,-0.01,-0.01,-0.014142842854277925,-0.01,0.0,-0.014142842854277925,-0.01,0.0,-0.01,-0.01,0.0,-0.01,0.0,-0.01,0.0,-0.01,-0.01,-0.01,-0.01,-0.014142842854277925,-0.01,-0.01,-0.01,-0.01,-0.01,-0.01,-0.01,-0.01,-0.017322240559621654,-0.01,0.0,-0.01,-0.01,-0.01,0.0,0.0,-0.01,-0.01,-0.01,-0.01,-0.01,-0.01,-0.01,0.0,-0.01,0.0,0.0,-0.01,-0.01,-0.01,0.0,0.0,0.0,0.0,0.0,0.0,-0.01,-0.014142842854277925,0.0,-0.01,0.0,-0.01,0.0,0.0,-0.01,-0.01,0.0,0.0,0.0,0.0,-0.01,0.0,0.0,0.0,0.0,0.0,0.0,-0.01,0.0,0.0,0.0,0.0,0.0,0.0,0.0]|0.0      |\n",
      "|[0.0,0.0,-0.24400934293702659,-0.24607274868534623,-0.23679552265192588,-0.1665726696224783,-0.1665726696224783,-0.17280952170814232,-0.1850126828970503,-0.1826876439178644,-0.15546062175360684,-0.1620800750830165,-0.15205347028886798,-0.1468082114008704,-0.1460958575438111,-0.15444563934751834,-0.14138543376625806,-0.11653600552543078,-0.11872036001444417,-0.11609447196746572,-0.09475770843280343,-0.13990675058078875,-0.1102022432301424,-0.09844838244715873,-0.07768921213458505,-0.12339734013867353,-0.10594088220702674,-0.12001293296101997,-0.10594088220702674,-0.09947864498432611,-0.0857493236680004,-0.09792934435920071,-0.11112804869665871,-0.09635609672386014,-0.09740764623852616,-0.09635609672386014,-0.08750677983752603,-0.07229563351163897,-0.08865964217599828,-0.10250973493215632,-0.07961976914133925,-0.06871478802878644,-0.07703520686197955,-0.07768921213458505,-0.06256898612167813,-0.08273978443963945,-0.07229563351163897,-0.07159351029705793,17.11982287566427,-0.06415970321641894,-0.08692479160438635,-0.06871478802878644,-0.07436305704712297,-0.07088457600619397,-0.055761356867017844,-0.05298661366266788,-0.06010528698780157,-0.07299114224538011,-0.06010528698780157,-0.05840597810280806,-0.06175851060219023,-0.054851856655318484,-0.06647558661576448,-0.057537769885347055,-0.05298661366266788,-0.05006011423872288,-0.054851856655318484,-0.036077167719207555,-0.051054059036031024,-0.03744092081629672,-0.05298661366266788,-0.044763909740218856,-0.03466008635163916,-0.051054059036031024,-0.05665643693268138,-0.04362827650010601,-0.054851856655318484,-0.03744092081629672,-0.04362827650010601,-0.04904623614378265,-0.06256898612167813,-0.04801116187751664,-0.045871656156726864,-0.044763909740218856,-0.04362827650010601,-0.04904623614378265,-0.04246251897770878,-0.05006011423872288,-0.03466008635163916,-0.04246251897770878,-0.028294176933755945,-0.038756975562240385,-0.031637017888873485,-0.028294176933755945,-0.04362827650010601,-0.038756975562240385,-0.02646545473264996,-0.030012008406365035,-0.03466008635163916,-0.031637017888873485,-0.04003003679930667,-0.044763909740218856,-0.028294176933755945,-0.030012008406365035,-0.03744092081629672,-0.03318284513619147,-0.030012008406365035,-0.04126408404259309,-0.030012008406365035,-0.044763909740218856,-0.038756975562240385,-0.03318284513619147,-0.02000300097533387,-0.03466008635163916,-0.038756975562240385,-0.03466008635163916,-0.030012008406365035,-0.036077167719207555,-0.03466008635163916,-0.044763909740218856,-0.031637017888873485,-0.03318284513619147,-0.03744092081629672,-0.03466008635163916,-0.028294176933755945,-0.014142842854277925,-0.017322240559621654,-0.030012008406365035,-0.03466008635163916,-0.031637017888873485,-0.02236515370056788,-0.04695348960844234,-0.031637017888873485,-0.036077167719207555,-0.031637017888873485,-0.030012008406365035,-0.028294176933755945,-0.02646545473264996,-0.031637017888873485,-0.028294176933755945,-0.028294176933755945,-0.028294176933755945,-0.028294176933755945,-0.03318284513619147,-0.028294176933755945,-0.030012008406365035,-0.024501024062435935,-0.02236515370056788,-0.028294176933755945,-0.028294176933755945,-0.02646545473264996,-0.028294176933755945,-0.030012008406365035,-0.030012008406365035,-0.030012008406365035,-0.02000300097533387,-0.02646545473264996,-0.014142842854277925,-0.031637017888873485,-0.024501024062435935,-0.017322240559621654,-0.028294176933755945,-0.024501024062435935,-0.02646545473264996,0.0,-0.02646545473264996,-0.02646545473264996,-0.030012008406365035,-0.024501024062435935,-0.024501024062435935,-0.024501024062435935,0.0,-0.024501024062435935,-0.03466008635163916,-0.02236515370056788,-0.02236515370056788,-0.02236515370056788,-0.04003003679930667,-0.02000300097533387,-0.02000300097533387,-0.017322240559621654,-0.024501024062435935,-0.02000300097533387,-0.02000300097533387,-0.02236515370056788,-0.017322240559621654,-0.024501024062435935,-0.024501024062435935,-0.02000300097533387,-0.030012008406365035,-0.014142842854277925,-0.02646545473264996,-0.02236515370056788,-0.02236515370056788,-0.024501024062435935,-0.017322240559621654,-0.02000300097533387,-0.017322240559621654,-0.02236515370056788,-0.014142842854277925,-0.031637017888873485,-0.024501024062435935,-0.02000300097533387,-0.02000300097533387,-0.017322240559621654,-0.017322240559621654,-0.024501024062435935,-0.02236515370056788,-0.017322240559621654,-0.02236515370056788,-0.017322240559621654,-0.017322240559621654,-0.02000300097533387,-0.017322240559621654,0.0,-0.014142842854277925,0.0,-0.02000300097533387,-0.01,-0.014142842854277925,-0.017322240559621654,-0.017322240559621654,-0.017322240559621654,-0.014142842854277925,-0.014142842854277925,-0.01,-0.014142842854277925,-0.02000300097533387,-0.014142842854277925,-0.017322240559621654,0.0,-0.017322240559621654,-0.01,-0.01,-0.014142842854277925,0.0,-0.014142842854277925,-0.014142842854277925,-0.01,0.0,-0.014142842854277925,-0.01,-0.01,-0.01,-0.014142842854277925,-0.014142842854277925,-0.014142842854277925,-0.014142842854277925,-0.014142842854277925,-0.014142842854277925,-0.014142842854277925,-0.01,-0.01,-0.014142842854277925,0.0,-0.014142842854277925,-0.014142842854277925,-0.014142842854277925,-0.014142842854277925,-0.01,-0.01,-0.01,-0.01,-0.014142842854277925,-0.014142842854277925,-0.01,-0.01,-0.01,0.0,-0.014142842854277925,-0.014142842854277925,-0.01,-0.014142842854277925,-0.01,0.0,-0.014142842854277925,-0.014142842854277925,-0.01,-0.01,-0.01,-0.01,0.0,0.0,0.0,-0.014142842854277925,-0.01,-0.01,-0.014142842854277925,-0.01,0.0,-0.01,-0.014142842854277925,-0.01,0.0,-0.014142842854277925,-0.01,-0.01,-0.01,0.0,0.0,-0.01,0.0,-0.01,-0.01,-0.01,-0.01,-0.01,-0.01,-0.01,-0.01,-0.014142842854277925,-0.01,0.0,-0.01,-0.017322240559621654,-0.01,-0.01,-0.01,-0.01,0.0,-0.01,-0.01,-0.01,0.0,-0.01,-0.01,-0.01,0.0,0.0,-0.01,0.0,-0.01,-0.01,0.0,0.0,-0.01,-0.01,-0.01,0.0,0.0,0.0,0.0,0.0,0.0,-0.01,0.0,-0.014142842854277925,-0.01,0.0,-0.01,0.0,-0.01,0.0,-0.01,0.0,0.0,0.0,0.0,-0.01,0.0,0.0,0.0,0.0,0.0,0.0,-0.01,0.0,0.0,0.0,0.0,0.0,0.0,-0.4522262445355063,-0.38001605175045755,-0.4195687122141992,-0.35797489979168434,-0.31022765367693744,0.0,-0.23252653309873983,-0.22477870197097002,-0.18873779499871673,-0.18731264316984636,-0.18530152997972202,4.492707650615418,-0.19099894506233633,-0.15101771962788957,-0.08025322242841672,-0.1764577209531396,0.0,-0.24377924168769177,-0.2524089028308502,-0.24239507671019309,-0.16530021998950947,-0.16498073847512204,-0.1743377843735494,-0.1875984213735909,-0.18151541614108194,-0.15444563934751834,-0.16401895657088722,-0.15205347028886798,-0.15410596564912288,-0.1468082114008704,-0.15646963817078435,-0.1443008800289642,-0.11741435766915949,-0.11609447196746572,-0.11386249491014895,-0.09203429039828893,6.911997522865409,-0.10785464843798498,-0.09740764623852616,-0.07703520686197955,-0.12255948865029458,-0.10642240438619965,-0.12213853602836552,-0.10545725944315962,-0.09998995000503749,-0.08455800017320876,-0.09947864498432611,-0.10973655326442525,-0.09529337567230584,-0.09998995000503749,-0.09688324508165085,-0.08455800017320876,-0.06871478802878644,-0.08923065994559935,-0.10399349364216474,-0.07768921213458505,-0.06571254060962411,-0.07703520686197955,-0.07703520686197955,-0.06175851060219023,-0.08273978443963945,-0.07229563351163897,-0.07016862415279304,-0.054851856655318484,-0.06175851060219023,-0.08455800017320876,-0.06871478802878644,-0.0736802238534214,-0.06871478802878644,-0.05202921299918296,-0.05298661366266788,-0.06093742254992414,-0.07299114224538011,-0.05840597810280806,-0.05665643693268138,-0.06175851060219023,-0.05392720664458539,-0.06647558661576448,-0.051054059036031024,-0.05298661366266788,-0.05392720664458539,-0.04801116187751664,-0.036077167719207555,-0.05006011423872288,-0.038756975562240385,-0.05202921299918296,-0.044763909740218856,-0.03744092081629672,-0.05202921299918296,-0.057537769885347055,-0.04246251897770878,-0.054851856655318484,-0.03744092081629672,-0.044763909740218856,-0.04801116187751664,-0.06175851060219023,-0.04801116187751664,-0.044763909740218856,-0.044763909740218856,-0.04362827650010601,-0.04695348960844234,-0.04003003679930667,-0.04801116187751664,-0.03466008635163916,-0.04246251897770878,-0.028294176933755945,-0.038756975562240385,-0.03318284513619147,-0.028294176933755945,-0.044763909740218856,-0.038756975562240385,-0.028294176933755945,-0.024501024062435935,-0.03466008635163916,-0.028294176933755945,-0.03466008635163916,-0.04126408404259309,-0.028294176933755945,-0.030012008406365035,-0.036077167719207555,-0.03318284513619147,-0.031637017888873485,-0.04246251897770878,-0.030012008406365035,-0.044763909740218856,-0.03744092081629672,-0.03318284513619147,-0.02000300097533387,-0.03466008635163916,-0.038756975562240385,-0.03466008635163916,-0.030012008406365035,-0.036077167719207555,-0.031637017888873485,-0.04362827650010601,-0.031637017888873485,-0.028294176933755945,-0.03744092081629672,-0.036077167719207555,-0.030012008406365035,-0.014142842854277925,-0.017322240559621654,-0.030012008406365035,-0.03318284513619147,-0.031637017888873485,-0.028294176933755945,-0.03318284513619147,-0.04801116187751664,-0.03744092081629672,-0.030012008406365035,-0.030012008406365035,-0.028294176933755945,-0.02646545473264996,-0.028294176933755945,-0.031637017888873485,-0.028294176933755945,-0.02646545473264996,-0.03318284513619147,-0.030012008406365035,-0.02646545473264996,-0.030012008406365035,-0.024501024062435935,-0.02236515370056788,-0.028294176933755945,-0.02646545473264996,-0.02646545473264996,-0.028294176933755945,-0.030012008406365035,-0.02646545473264996,-0.028294176933755945,-0.02000300097533387,-0.02646545473264996,-0.014142842854277925,-0.031637017888873485,-0.024501024062435935,-0.017322240559621654,-0.028294176933755945,-0.024501024062435935,-0.024501024062435935,0.0,-0.02646545473264996,-0.02646545473264996,-0.031637017888873485,-0.024501024062435935,-0.02646545473264996,-0.024501024062435935,0.0,-0.02236515370056788,-0.02236515370056788,-0.024501024062435935,-0.031637017888873485,-0.02236515370056788,-0.02000300097533387,-0.04003003679930667,-0.02000300097533387,-0.017322240559621654,-0.02236515370056788,-0.02000300097533387,-0.02000300097533387,-0.02236515370056788,-0.014142842854277925,-0.02236515370056788,-0.024501024062435935,-0.02000300097533387,-0.030012008406365035,-0.014142842854277925,-0.024501024062435935,-0.014142842854277925,-0.02236515370056788,-0.017322240559621654,-0.02236515370056788,-0.02000300097533387,-0.017322240559621654,-0.02236515370056788,-0.024501024062435935,-0.014142842854277925,-0.031637017888873485,-0.02000300097533387,-0.02000300097533387,-0.017322240559621654,-0.017322240559621654,-0.02236515370056788,-0.02236515370056788,-0.017322240559621654,-0.02236515370056788,-0.017322240559621654,-0.01,-0.02000300097533387,-0.017322240559621654,0.0,-0.014142842854277925,-0.02000300097533387,-0.01,0.0,-0.017322240559621654,-0.014142842854277925,-0.017322240559621654,-0.014142842854277925,-0.014142842854277925,-0.014142842854277925,-0.01,-0.01,-0.02000300097533387,-0.014142842854277925,-0.014142842854277925,0.0,-0.017322240559621654,-0.01,-0.01,-0.014142842854277925,0.0,-0.014142842854277925,-0.014142842854277925,-0.014142842854277925,0.0,0.0,-0.01,-0.01,-0.01,-0.014142842854277925,-0.014142842854277925,-0.014142842854277925,-0.014142842854277925,-0.01,-0.014142842854277925,-0.014142842854277925,-0.01,-0.01,0.0,-0.014142842854277925,-0.014142842854277925,-0.01,-0.014142842854277925,-0.01,-0.01,-0.01,-0.01,-0.01,-0.01,-0.01,-0.014142842854277925,-0.01,-0.01,0.0,-0.014142842854277925,-0.01,-0.01,-0.014142842854277925,0.0,-0.01,-0.014142842854277925,-0.014142842854277925,-0.01,-0.01,-0.01,-0.01,0.0,0.0,-0.014142842854277925,-0.01,0.0,-0.014142842854277925,-0.01,-0.01,-0.01,-0.014142842854277925,-0.01,0.0,-0.014142842854277925,-0.01,0.0,-0.01,-0.01,0.0,-0.01,0.0,-0.01,0.0,-0.01,-0.01,-0.01,-0.01,-0.014142842854277925,-0.01,-0.01,-0.01,-0.01,-0.01,-0.01,-0.01,-0.01,-0.017322240559621654,-0.01,0.0,-0.01,-0.01,-0.01,0.0,0.0,-0.01,-0.01,-0.01,-0.01,-0.01,-0.01,-0.01,0.0,-0.01,0.0,0.0,-0.01,-0.01,-0.01,0.0,0.0,0.0,0.0,0.0,0.0,-0.01,-0.014142842854277925,0.0,-0.01,0.0,-0.01,0.0,0.0,-0.01,-0.01,0.0,0.0,0.0,0.0,-0.01,0.0,0.0,0.0,0.0,0.0,0.0,-0.01,0.0,0.0,0.0,0.0,0.0,0.0,0.0] |-5.0     |\n",
      "|[0.0,0.0,-0.24400934293702659,-0.24607274868534623,-0.23679552265192588,-0.1665726696224783,-0.1665726696224783,-0.17280952170814232,-0.1850126828970503,-0.1826876439178644,-0.15546062175360684,-0.1620800750830165,-0.15205347028886798,-0.1468082114008704,-0.1460958575438111,-0.15444563934751834,-0.14138543376625806,-0.11653600552543078,-0.11872036001444417,-0.11609447196746572,-0.09475770843280343,-0.13990675058078875,-0.1102022432301424,-0.09844838244715873,-0.07768921213458505,-0.12339734013867353,-0.10594088220702674,-0.12001293296101997,-0.10594088220702674,-0.09947864498432611,-0.0857493236680004,-0.09792934435920071,-0.11112804869665871,-0.09635609672386014,-0.09740764623852616,-0.09635609672386014,-0.08750677983752603,-0.07229563351163897,-0.08865964217599828,-0.10250973493215632,-0.07961976914133925,-0.06871478802878644,-0.07703520686197955,-0.07768921213458505,-0.06256898612167813,-0.08273978443963945,-0.07229563351163897,-0.07159351029705793,-0.05840597810280806,-0.06415970321641894,-0.08692479160438635,-0.06871478802878644,-0.07436305704712297,-0.07088457600619397,-0.055761356867017844,-0.05298661366266788,-0.06010528698780157,-0.07299114224538011,-0.06010528698780157,-0.05840597810280806,-0.06175851060219023,-0.054851856655318484,-0.06647558661576448,-0.057537769885347055,-0.05298661366266788,-0.05006011423872288,-0.054851856655318484,-0.036077167719207555,-0.051054059036031024,-0.03744092081629672,-0.05298661366266788,-0.044763909740218856,-0.03466008635163916,-0.051054059036031024,-0.05665643693268138,-0.04362827650010601,-0.054851856655318484,-0.03744092081629672,-0.04362827650010601,-0.04904623614378265,-0.06256898612167813,-0.04801116187751664,-0.045871656156726864,-0.044763909740218856,-0.04362827650010601,-0.04904623614378265,-0.04246251897770878,-0.05006011423872288,-0.03466008635163916,-0.04246251897770878,-0.028294176933755945,-0.038756975562240385,-0.031637017888873485,-0.028294176933755945,-0.04362827650010601,-0.038756975562240385,-0.02646545473264996,-0.030012008406365035,-0.03466008635163916,31.605380870984614,-0.04003003679930667,-0.044763909740218856,-0.028294176933755945,-0.030012008406365035,-0.03744092081629672,-0.03318284513619147,-0.030012008406365035,-0.04126408404259309,-0.030012008406365035,-0.044763909740218856,-0.038756975562240385,-0.03318284513619147,-0.02000300097533387,-0.03466008635163916,-0.038756975562240385,-0.03466008635163916,-0.030012008406365035,-0.036077167719207555,-0.03466008635163916,-0.044763909740218856,-0.031637017888873485,-0.03318284513619147,-0.03744092081629672,-0.03466008635163916,-0.028294176933755945,-0.014142842854277925,-0.017322240559621654,-0.030012008406365035,-0.03466008635163916,-0.031637017888873485,-0.02236515370056788,-0.04695348960844234,-0.031637017888873485,-0.036077167719207555,-0.031637017888873485,-0.030012008406365035,-0.028294176933755945,-0.02646545473264996,-0.031637017888873485,-0.028294176933755945,-0.028294176933755945,-0.028294176933755945,-0.028294176933755945,-0.03318284513619147,-0.028294176933755945,-0.030012008406365035,-0.024501024062435935,-0.02236515370056788,-0.028294176933755945,-0.028294176933755945,-0.02646545473264996,-0.028294176933755945,-0.030012008406365035,-0.030012008406365035,-0.030012008406365035,-0.02000300097533387,-0.02646545473264996,-0.014142842854277925,-0.031637017888873485,-0.024501024062435935,-0.017322240559621654,-0.028294176933755945,-0.024501024062435935,-0.02646545473264996,0.0,-0.02646545473264996,-0.02646545473264996,-0.030012008406365035,-0.024501024062435935,-0.024501024062435935,-0.024501024062435935,0.0,-0.024501024062435935,-0.03466008635163916,-0.02236515370056788,-0.02236515370056788,-0.02236515370056788,-0.04003003679930667,-0.02000300097533387,-0.02000300097533387,-0.017322240559621654,-0.024501024062435935,-0.02000300097533387,-0.02000300097533387,-0.02236515370056788,-0.017322240559621654,-0.024501024062435935,-0.024501024062435935,-0.02000300097533387,-0.030012008406365035,-0.014142842854277925,-0.02646545473264996,-0.02236515370056788,-0.02236515370056788,-0.024501024062435935,-0.017322240559621654,-0.02000300097533387,-0.017322240559621654,-0.02236515370056788,-0.014142842854277925,-0.031637017888873485,-0.024501024062435935,-0.02000300097533387,-0.02000300097533387,-0.017322240559621654,-0.017322240559621654,-0.024501024062435935,-0.02236515370056788,-0.017322240559621654,-0.02236515370056788,-0.017322240559621654,-0.017322240559621654,-0.02000300097533387,-0.017322240559621654,0.0,-0.014142842854277925,0.0,-0.02000300097533387,-0.01,-0.014142842854277925,-0.017322240559621654,-0.017322240559621654,-0.017322240559621654,-0.014142842854277925,-0.014142842854277925,-0.01,-0.014142842854277925,-0.02000300097533387,-0.014142842854277925,-0.017322240559621654,0.0,-0.017322240559621654,-0.01,-0.01,-0.014142842854277925,0.0,-0.014142842854277925,-0.014142842854277925,-0.01,0.0,-0.014142842854277925,-0.01,-0.01,-0.01,-0.014142842854277925,-0.014142842854277925,-0.014142842854277925,-0.014142842854277925,-0.014142842854277925,-0.014142842854277925,-0.014142842854277925,-0.01,-0.01,-0.014142842854277925,0.0,-0.014142842854277925,-0.014142842854277925,-0.014142842854277925,-0.014142842854277925,-0.01,-0.01,-0.01,-0.01,-0.014142842854277925,-0.014142842854277925,-0.01,-0.01,-0.01,0.0,-0.014142842854277925,-0.014142842854277925,-0.01,-0.014142842854277925,-0.01,0.0,-0.014142842854277925,-0.014142842854277925,-0.01,-0.01,-0.01,-0.01,0.0,0.0,0.0,-0.014142842854277925,-0.01,-0.01,-0.014142842854277925,-0.01,0.0,-0.01,-0.014142842854277925,-0.01,0.0,-0.014142842854277925,-0.01,-0.01,-0.01,0.0,0.0,-0.01,0.0,-0.01,-0.01,-0.01,-0.01,-0.01,-0.01,-0.01,-0.01,-0.014142842854277925,-0.01,0.0,-0.01,-0.017322240559621654,-0.01,-0.01,-0.01,-0.01,0.0,-0.01,-0.01,-0.01,0.0,-0.01,-0.01,-0.01,0.0,0.0,-0.01,0.0,-0.01,-0.01,0.0,0.0,-0.01,-0.01,-0.01,0.0,0.0,0.0,0.0,0.0,0.0,-0.01,0.0,-0.014142842854277925,-0.01,0.0,-0.01,0.0,-0.01,0.0,-0.01,0.0,0.0,0.0,0.0,-0.01,0.0,0.0,0.0,0.0,0.0,0.0,-0.01,0.0,0.0,0.0,0.0,0.0,0.0,-0.4522262445355063,-0.38001605175045755,-0.4195687122141992,-0.35797489979168434,-0.31022765367693744,0.0,4.300154423991705,-0.22477870197097002,-0.18873779499871673,-0.18731264316984636,-0.18530152997972202,-0.22256066447213235,-0.19099894506233633,-0.15101771962788957,-0.08025322242841672,-0.1764577209531396,0.0,-0.24377924168769177,-0.2524089028308502,-0.24239507671019309,-0.16530021998950947,-0.16498073847512204,-0.1743377843735494,-0.1875984213735909,-0.18151541614108194,-0.15444563934751834,-0.16401895657088722,6.575976188510601,-0.15410596564912288,-0.1468082114008704,-0.15646963817078435,-0.1443008800289642,-0.11741435766915949,-0.11609447196746572,-0.11386249491014895,-0.09203429039828893,-0.14466151017737713,-0.10785464843798498,-0.09740764623852616,-0.07703520686197955,-0.12255948865029458,-0.10642240438619965,-0.12213853602836552,-0.10545725944315962,-0.09998995000503749,-0.08455800017320876,-0.09947864498432611,-0.10973655326442525,-0.09529337567230584,-0.09998995000503749,-0.09688324508165085,-0.08455800017320876,-0.06871478802878644,-0.08923065994559935,-0.10399349364216474,-0.07768921213458505,-0.06571254060962411,-0.07703520686197955,-0.07703520686197955,-0.06175851060219023,-0.08273978443963945,-0.07229563351163897,-0.07016862415279304,-0.054851856655318484,-0.06175851060219023,-0.08455800017320876,-0.06871478802878644,-0.0736802238534214,-0.06871478802878644,-0.05202921299918296,-0.05298661366266788,-0.06093742254992414,-0.07299114224538011,-0.05840597810280806,-0.05665643693268138,-0.06175851060219023,-0.05392720664458539,-0.06647558661576448,-0.051054059036031024,-0.05298661366266788,-0.05392720664458539,-0.04801116187751664,-0.036077167719207555,-0.05006011423872288,-0.038756975562240385,-0.05202921299918296,-0.044763909740218856,-0.03744092081629672,-0.05202921299918296,-0.057537769885347055,-0.04246251897770878,-0.054851856655318484,-0.03744092081629672,-0.044763909740218856,-0.04801116187751664,-0.06175851060219023,-0.04801116187751664,-0.044763909740218856,-0.044763909740218856,-0.04362827650010601,-0.04695348960844234,-0.04003003679930667,-0.04801116187751664,-0.03466008635163916,-0.04246251897770878,-0.028294176933755945,-0.038756975562240385,-0.03318284513619147,-0.028294176933755945,-0.044763909740218856,-0.038756975562240385,-0.028294176933755945,-0.024501024062435935,-0.03466008635163916,-0.028294176933755945,-0.03466008635163916,-0.04126408404259309,-0.028294176933755945,-0.030012008406365035,-0.036077167719207555,-0.03318284513619147,-0.031637017888873485,-0.04246251897770878,-0.030012008406365035,-0.044763909740218856,-0.03744092081629672,-0.03318284513619147,-0.02000300097533387,-0.03466008635163916,-0.038756975562240385,-0.03466008635163916,-0.030012008406365035,-0.036077167719207555,-0.031637017888873485,-0.04362827650010601,-0.031637017888873485,-0.028294176933755945,-0.03744092081629672,-0.036077167719207555,-0.030012008406365035,-0.014142842854277925,-0.017322240559621654,-0.030012008406365035,-0.03318284513619147,-0.031637017888873485,-0.028294176933755945,-0.03318284513619147,-0.04801116187751664,-0.03744092081629672,-0.030012008406365035,-0.030012008406365035,-0.028294176933755945,-0.02646545473264996,-0.028294176933755945,-0.031637017888873485,-0.028294176933755945,-0.02646545473264996,-0.03318284513619147,-0.030012008406365035,-0.02646545473264996,-0.030012008406365035,-0.024501024062435935,-0.02236515370056788,-0.028294176933755945,-0.02646545473264996,-0.02646545473264996,-0.028294176933755945,-0.030012008406365035,-0.02646545473264996,-0.028294176933755945,-0.02000300097533387,-0.02646545473264996,-0.014142842854277925,-0.031637017888873485,-0.024501024062435935,-0.017322240559621654,-0.028294176933755945,-0.024501024062435935,-0.024501024062435935,0.0,-0.02646545473264996,-0.02646545473264996,-0.031637017888873485,-0.024501024062435935,-0.02646545473264996,-0.024501024062435935,0.0,-0.02236515370056788,-0.02236515370056788,-0.024501024062435935,-0.031637017888873485,-0.02236515370056788,-0.02000300097533387,-0.04003003679930667,-0.02000300097533387,-0.017322240559621654,-0.02236515370056788,-0.02000300097533387,-0.02000300097533387,-0.02236515370056788,-0.014142842854277925,-0.02236515370056788,-0.024501024062435935,-0.02000300097533387,-0.030012008406365035,-0.014142842854277925,-0.024501024062435935,-0.014142842854277925,-0.02236515370056788,-0.017322240559621654,-0.02236515370056788,-0.02000300097533387,-0.017322240559621654,-0.02236515370056788,-0.024501024062435935,-0.014142842854277925,-0.031637017888873485,-0.02000300097533387,-0.02000300097533387,-0.017322240559621654,-0.017322240559621654,-0.02236515370056788,-0.02236515370056788,-0.017322240559621654,-0.02236515370056788,-0.017322240559621654,-0.01,-0.02000300097533387,-0.017322240559621654,0.0,-0.014142842854277925,-0.02000300097533387,-0.01,0.0,-0.017322240559621654,-0.014142842854277925,-0.017322240559621654,-0.014142842854277925,-0.014142842854277925,-0.014142842854277925,-0.01,-0.01,-0.02000300097533387,-0.014142842854277925,-0.014142842854277925,0.0,-0.017322240559621654,-0.01,-0.01,-0.014142842854277925,0.0,-0.014142842854277925,-0.014142842854277925,-0.014142842854277925,0.0,0.0,-0.01,-0.01,-0.01,-0.014142842854277925,-0.014142842854277925,-0.014142842854277925,-0.014142842854277925,-0.01,-0.014142842854277925,-0.014142842854277925,-0.01,-0.01,0.0,-0.014142842854277925,-0.014142842854277925,-0.01,-0.014142842854277925,-0.01,-0.01,-0.01,-0.01,-0.01,-0.01,-0.01,-0.014142842854277925,-0.01,-0.01,0.0,-0.014142842854277925,-0.01,-0.01,-0.014142842854277925,0.0,-0.01,-0.014142842854277925,-0.014142842854277925,-0.01,-0.01,-0.01,-0.01,0.0,0.0,-0.014142842854277925,-0.01,0.0,-0.014142842854277925,-0.01,-0.01,-0.01,-0.014142842854277925,-0.01,0.0,-0.014142842854277925,-0.01,0.0,-0.01,-0.01,0.0,-0.01,0.0,-0.01,0.0,-0.01,-0.01,-0.01,-0.01,-0.014142842854277925,-0.01,-0.01,-0.01,-0.01,-0.01,-0.01,-0.01,-0.01,-0.017322240559621654,-0.01,0.0,-0.01,-0.01,-0.01,0.0,0.0,-0.01,-0.01,-0.01,-0.01,-0.01,-0.01,-0.01,0.0,-0.01,0.0,0.0,-0.01,-0.01,-0.01,0.0,0.0,0.0,0.0,0.0,0.0,-0.01,-0.014142842854277925,0.0,-0.01,0.0,-0.01,0.0,0.0,-0.01,-0.01,0.0,0.0,0.0,0.0,-0.01,0.0,0.0,0.0,0.0,0.0,0.0,-0.01,0.0,0.0,0.0,0.0,0.0,0.0,0.0] |-2.0     |\n",
      "|[0.0,0.0,-0.24400934293702659,-0.24607274868534623,-0.23679552265192588,-0.1665726696224783,-0.1665726696224783,5.786139502710558,-0.1850126828970503,-0.1826876439178644,-0.15546062175360684,-0.1620800750830165,-0.15205347028886798,-0.1468082114008704,-0.1460958575438111,-0.15444563934751834,-0.14138543376625806,-0.11653600552543078,-0.11872036001444417,-0.11609447196746572,-0.09475770843280343,-0.13990675058078875,-0.1102022432301424,-0.09844838244715873,-0.07768921213458505,-0.12339734013867353,-0.10594088220702674,-0.12001293296101997,-0.10594088220702674,-0.09947864498432611,-0.0857493236680004,-0.09792934435920071,-0.11112804869665871,-0.09635609672386014,-0.09740764623852616,-0.09635609672386014,-0.08750677983752603,-0.07229563351163897,-0.08865964217599828,-0.10250973493215632,-0.07961976914133925,-0.06871478802878644,-0.07703520686197955,-0.07768921213458505,-0.06256898612167813,-0.08273978443963945,-0.07229563351163897,-0.07159351029705793,-0.05840597810280806,-0.06415970321641894,-0.08692479160438635,-0.06871478802878644,-0.07436305704712297,-0.07088457600619397,-0.055761356867017844,-0.05298661366266788,-0.06010528698780157,-0.07299114224538011,-0.06010528698780157,-0.05840597810280806,-0.06175851060219023,-0.054851856655318484,-0.06647558661576448,-0.057537769885347055,-0.05298661366266788,-0.05006011423872288,-0.054851856655318484,-0.036077167719207555,-0.051054059036031024,-0.03744092081629672,-0.05298661366266788,-0.044763909740218856,-0.03466008635163916,-0.051054059036031024,-0.05665643693268138,-0.04362827650010601,-0.054851856655318484,-0.03744092081629672,-0.04362827650010601,-0.04904623614378265,-0.06256898612167813,-0.04801116187751664,-0.045871656156726864,-0.044763909740218856,-0.04362827650010601,-0.04904623614378265,-0.04246251897770878,-0.05006011423872288,-0.03466008635163916,-0.04246251897770878,-0.028294176933755945,-0.038756975562240385,-0.031637017888873485,-0.028294176933755945,-0.04362827650010601,-0.038756975562240385,-0.02646545473264996,-0.030012008406365035,-0.03466008635163916,-0.031637017888873485,-0.04003003679930667,-0.044763909740218856,-0.028294176933755945,-0.030012008406365035,-0.03744092081629672,-0.03318284513619147,-0.030012008406365035,-0.04126408404259309,-0.030012008406365035,-0.044763909740218856,-0.038756975562240385,-0.03318284513619147,-0.02000300097533387,-0.03466008635163916,-0.038756975562240385,-0.03466008635163916,-0.030012008406365035,-0.036077167719207555,-0.03466008635163916,-0.044763909740218856,-0.031637017888873485,-0.03318284513619147,-0.03744092081629672,-0.03466008635163916,-0.028294176933755945,-0.014142842854277925,-0.017322240559621654,-0.030012008406365035,-0.03466008635163916,-0.031637017888873485,-0.02236515370056788,-0.04695348960844234,-0.031637017888873485,-0.036077167719207555,-0.031637017888873485,-0.030012008406365035,-0.028294176933755945,-0.02646545473264996,-0.031637017888873485,-0.028294176933755945,-0.028294176933755945,-0.028294176933755945,-0.028294176933755945,-0.03318284513619147,-0.028294176933755945,-0.030012008406365035,-0.024501024062435935,-0.02236515370056788,-0.028294176933755945,-0.028294176933755945,-0.02646545473264996,-0.028294176933755945,-0.030012008406365035,-0.030012008406365035,-0.030012008406365035,-0.02000300097533387,-0.02646545473264996,-0.014142842854277925,-0.031637017888873485,-0.024501024062435935,-0.017322240559621654,-0.028294176933755945,-0.024501024062435935,-0.02646545473264996,0.0,-0.02646545473264996,-0.02646545473264996,-0.030012008406365035,-0.024501024062435935,-0.024501024062435935,-0.024501024062435935,0.0,-0.024501024062435935,-0.03466008635163916,-0.02236515370056788,-0.02236515370056788,-0.02236515370056788,-0.04003003679930667,-0.02000300097533387,-0.02000300097533387,-0.017322240559621654,-0.024501024062435935,-0.02000300097533387,-0.02000300097533387,-0.02236515370056788,-0.017322240559621654,-0.024501024062435935,-0.024501024062435935,-0.02000300097533387,-0.030012008406365035,-0.014142842854277925,-0.02646545473264996,-0.02236515370056788,-0.02236515370056788,-0.024501024062435935,-0.017322240559621654,-0.02000300097533387,-0.017322240559621654,-0.02236515370056788,-0.014142842854277925,-0.031637017888873485,-0.024501024062435935,-0.02000300097533387,-0.02000300097533387,-0.017322240559621654,-0.017322240559621654,-0.024501024062435935,-0.02236515370056788,-0.017322240559621654,-0.02236515370056788,-0.017322240559621654,-0.017322240559621654,-0.02000300097533387,-0.017322240559621654,0.0,-0.014142842854277925,0.0,-0.02000300097533387,-0.01,-0.014142842854277925,-0.017322240559621654,-0.017322240559621654,-0.017322240559621654,-0.014142842854277925,-0.014142842854277925,-0.01,-0.014142842854277925,-0.02000300097533387,-0.014142842854277925,-0.017322240559621654,0.0,-0.017322240559621654,-0.01,-0.01,-0.014142842854277925,0.0,-0.014142842854277925,-0.014142842854277925,-0.01,0.0,-0.014142842854277925,-0.01,-0.01,-0.01,-0.014142842854277925,-0.014142842854277925,-0.014142842854277925,-0.014142842854277925,-0.014142842854277925,-0.014142842854277925,-0.014142842854277925,-0.01,-0.01,-0.014142842854277925,0.0,-0.014142842854277925,-0.014142842854277925,-0.014142842854277925,-0.014142842854277925,-0.01,-0.01,-0.01,-0.01,-0.014142842854277925,-0.014142842854277925,-0.01,-0.01,-0.01,0.0,-0.014142842854277925,-0.014142842854277925,-0.01,-0.014142842854277925,-0.01,0.0,-0.014142842854277925,-0.014142842854277925,-0.01,-0.01,-0.01,-0.01,0.0,0.0,0.0,-0.014142842854277925,-0.01,-0.01,-0.014142842854277925,-0.01,0.0,-0.01,-0.014142842854277925,-0.01,0.0,-0.014142842854277925,-0.01,-0.01,-0.01,0.0,0.0,-0.01,0.0,-0.01,-0.01,-0.01,-0.01,-0.01,-0.01,-0.01,-0.01,-0.014142842854277925,-0.01,0.0,-0.01,-0.017322240559621654,-0.01,-0.01,-0.01,-0.01,0.0,-0.01,-0.01,-0.01,0.0,-0.01,-0.01,-0.01,0.0,0.0,-0.01,0.0,-0.01,-0.01,0.0,0.0,-0.01,-0.01,-0.01,0.0,0.0,0.0,0.0,0.0,0.0,-0.01,0.0,-0.014142842854277925,-0.01,0.0,-0.01,0.0,-0.01,0.0,-0.01,0.0,0.0,0.0,0.0,-0.01,0.0,0.0,0.0,0.0,0.0,0.0,-0.01,0.0,0.0,0.0,0.0,0.0,0.0,-0.4522262445355063,-0.38001605175045755,-0.4195687122141992,-0.35797489979168434,-0.31022765367693744,0.0,-0.23252653309873983,-0.22477870197097002,-0.18873779499871673,-0.18731264316984636,-0.18530152997972202,4.492707650615418,-0.19099894506233633,-0.15101771962788957,-0.08025322242841672,-0.1764577209531396,0.0,-0.24377924168769177,-0.2524089028308502,-0.24239507671019309,-0.16530021998950947,-0.16498073847512204,-0.1743377843735494,-0.1875984213735909,-0.18151541614108194,6.474122572992325,-0.16401895657088722,-0.15205347028886798,-0.15410596564912288,-0.1468082114008704,-0.15646963817078435,-0.1443008800289642,-0.11741435766915949,-0.11609447196746572,-0.11386249491014895,-0.09203429039828893,-0.14466151017737713,-0.10785464843798498,-0.09740764623852616,-0.07703520686197955,-0.12255948865029458,-0.10642240438619965,-0.12213853602836552,-0.10545725944315962,-0.09998995000503749,-0.08455800017320876,-0.09947864498432611,-0.10973655326442525,-0.09529337567230584,-0.09998995000503749,-0.09688324508165085,-0.08455800017320876,-0.06871478802878644,-0.08923065994559935,-0.10399349364216474,-0.07768921213458505,-0.06571254060962411,-0.07703520686197955,-0.07703520686197955,-0.06175851060219023,-0.08273978443963945,-0.07229563351163897,-0.07016862415279304,-0.054851856655318484,-0.06175851060219023,-0.08455800017320876,-0.06871478802878644,-0.0736802238534214,-0.06871478802878644,-0.05202921299918296,-0.05298661366266788,-0.06093742254992414,-0.07299114224538011,-0.05840597810280806,-0.05665643693268138,-0.06175851060219023,-0.05392720664458539,-0.06647558661576448,-0.051054059036031024,-0.05298661366266788,-0.05392720664458539,-0.04801116187751664,-0.036077167719207555,-0.05006011423872288,-0.038756975562240385,-0.05202921299918296,-0.044763909740218856,-0.03744092081629672,-0.05202921299918296,-0.057537769885347055,-0.04246251897770878,-0.054851856655318484,-0.03744092081629672,-0.044763909740218856,-0.04801116187751664,-0.06175851060219023,-0.04801116187751664,-0.044763909740218856,-0.044763909740218856,-0.04362827650010601,-0.04695348960844234,-0.04003003679930667,-0.04801116187751664,-0.03466008635163916,-0.04246251897770878,-0.028294176933755945,-0.038756975562240385,-0.03318284513619147,-0.028294176933755945,-0.044763909740218856,-0.038756975562240385,-0.028294176933755945,-0.024501024062435935,-0.03466008635163916,-0.028294176933755945,-0.03466008635163916,-0.04126408404259309,-0.028294176933755945,-0.030012008406365035,-0.036077167719207555,-0.03318284513619147,-0.031637017888873485,-0.04246251897770878,-0.030012008406365035,-0.044763909740218856,-0.03744092081629672,-0.03318284513619147,-0.02000300097533387,-0.03466008635163916,-0.038756975562240385,-0.03466008635163916,-0.030012008406365035,-0.036077167719207555,-0.031637017888873485,-0.04362827650010601,-0.031637017888873485,-0.028294176933755945,-0.03744092081629672,-0.036077167719207555,-0.030012008406365035,-0.014142842854277925,-0.017322240559621654,-0.030012008406365035,-0.03318284513619147,-0.031637017888873485,-0.028294176933755945,-0.03318284513619147,-0.04801116187751664,-0.03744092081629672,-0.030012008406365035,-0.030012008406365035,-0.028294176933755945,-0.02646545473264996,-0.028294176933755945,-0.031637017888873485,-0.028294176933755945,-0.02646545473264996,-0.03318284513619147,-0.030012008406365035,-0.02646545473264996,-0.030012008406365035,-0.024501024062435935,-0.02236515370056788,-0.028294176933755945,-0.02646545473264996,-0.02646545473264996,-0.028294176933755945,-0.030012008406365035,-0.02646545473264996,-0.028294176933755945,-0.02000300097533387,-0.02646545473264996,-0.014142842854277925,-0.031637017888873485,-0.024501024062435935,-0.017322240559621654,-0.028294176933755945,-0.024501024062435935,-0.024501024062435935,0.0,-0.02646545473264996,-0.02646545473264996,-0.031637017888873485,-0.024501024062435935,-0.02646545473264996,-0.024501024062435935,0.0,-0.02236515370056788,-0.02236515370056788,-0.024501024062435935,-0.031637017888873485,-0.02236515370056788,-0.02000300097533387,-0.04003003679930667,-0.02000300097533387,-0.017322240559621654,-0.02236515370056788,-0.02000300097533387,-0.02000300097533387,-0.02236515370056788,-0.014142842854277925,-0.02236515370056788,-0.024501024062435935,-0.02000300097533387,-0.030012008406365035,-0.014142842854277925,-0.024501024062435935,-0.014142842854277925,-0.02236515370056788,-0.017322240559621654,-0.02236515370056788,-0.02000300097533387,-0.017322240559621654,-0.02236515370056788,-0.024501024062435935,-0.014142842854277925,-0.031637017888873485,-0.02000300097533387,-0.02000300097533387,-0.017322240559621654,-0.017322240559621654,-0.02236515370056788,-0.02236515370056788,-0.017322240559621654,-0.02236515370056788,-0.017322240559621654,-0.01,-0.02000300097533387,-0.017322240559621654,0.0,-0.014142842854277925,-0.02000300097533387,-0.01,0.0,-0.017322240559621654,-0.014142842854277925,-0.017322240559621654,-0.014142842854277925,-0.014142842854277925,-0.014142842854277925,-0.01,-0.01,-0.02000300097533387,-0.014142842854277925,-0.014142842854277925,0.0,-0.017322240559621654,-0.01,-0.01,-0.014142842854277925,0.0,-0.014142842854277925,-0.014142842854277925,-0.014142842854277925,0.0,0.0,-0.01,-0.01,-0.01,-0.014142842854277925,-0.014142842854277925,-0.014142842854277925,-0.014142842854277925,-0.01,-0.014142842854277925,-0.014142842854277925,-0.01,-0.01,0.0,-0.014142842854277925,-0.014142842854277925,-0.01,-0.014142842854277925,-0.01,-0.01,-0.01,-0.01,-0.01,-0.01,-0.01,-0.014142842854277925,-0.01,-0.01,0.0,-0.014142842854277925,-0.01,-0.01,-0.014142842854277925,0.0,-0.01,-0.014142842854277925,-0.014142842854277925,-0.01,-0.01,-0.01,-0.01,0.0,0.0,-0.014142842854277925,-0.01,0.0,-0.014142842854277925,-0.01,-0.01,-0.01,-0.014142842854277925,-0.01,0.0,-0.014142842854277925,-0.01,0.0,-0.01,-0.01,0.0,-0.01,0.0,-0.01,0.0,-0.01,-0.01,-0.01,-0.01,-0.014142842854277925,-0.01,-0.01,-0.01,-0.01,-0.01,-0.01,-0.01,-0.01,-0.017322240559621654,-0.01,0.0,-0.01,-0.01,-0.01,0.0,0.0,-0.01,-0.01,-0.01,-0.01,-0.01,-0.01,-0.01,0.0,-0.01,0.0,0.0,-0.01,-0.01,-0.01,0.0,0.0,0.0,0.0,0.0,0.0,-0.01,-0.014142842854277925,0.0,-0.01,0.0,-0.01,0.0,0.0,-0.01,-0.01,0.0,0.0,0.0,0.0,-0.01,0.0,0.0,0.0,0.0,0.0,0.0,-0.01,0.0,0.0,0.0,0.0,0.0,0.0,0.0] |3.0      |\n",
      "|[0.0,0.0,-0.24400934293702659,-0.24607274868534623,-0.23679552265192588,-0.1665726696224783,-0.1665726696224783,-0.17280952170814232,-0.1850126828970503,-0.1826876439178644,-0.15546062175360684,-0.1620800750830165,6.575976188510601,-0.1468082114008704,-0.1460958575438111,-0.15444563934751834,-0.14138543376625806,-0.11653600552543078,-0.11872036001444417,-0.11609447196746572,-0.09475770843280343,-0.13990675058078875,-0.1102022432301424,-0.09844838244715873,-0.07768921213458505,-0.12339734013867353,-0.10594088220702674,-0.12001293296101997,-0.10594088220702674,-0.09947864498432611,-0.0857493236680004,-0.09792934435920071,-0.11112804869665871,-0.09635609672386014,-0.09740764623852616,-0.09635609672386014,-0.08750677983752603,-0.07229563351163897,-0.08865964217599828,-0.10250973493215632,-0.07961976914133925,-0.06871478802878644,-0.07703520686197955,-0.07768921213458505,-0.06256898612167813,-0.08273978443963945,-0.07229563351163897,-0.07159351029705793,-0.05840597810280806,-0.06415970321641894,-0.08692479160438635,-0.06871478802878644,-0.07436305704712297,-0.07088457600619397,-0.055761356867017844,-0.05298661366266788,-0.06010528698780157,-0.07299114224538011,-0.06010528698780157,-0.05840597810280806,-0.06175851060219023,-0.054851856655318484,-0.06647558661576448,-0.057537769885347055,-0.05298661366266788,-0.05006011423872288,-0.054851856655318484,-0.036077167719207555,-0.051054059036031024,-0.03744092081629672,-0.05298661366266788,-0.044763909740218856,-0.03466008635163916,-0.051054059036031024,-0.05665643693268138,-0.04362827650010601,-0.054851856655318484,-0.03744092081629672,-0.04362827650010601,-0.04904623614378265,-0.06256898612167813,-0.04801116187751664,-0.045871656156726864,-0.044763909740218856,-0.04362827650010601,-0.04904623614378265,-0.04246251897770878,-0.05006011423872288,-0.03466008635163916,-0.04246251897770878,-0.028294176933755945,-0.038756975562240385,-0.031637017888873485,-0.028294176933755945,-0.04362827650010601,-0.038756975562240385,-0.02646545473264996,-0.030012008406365035,-0.03466008635163916,-0.031637017888873485,-0.04003003679930667,-0.044763909740218856,-0.028294176933755945,-0.030012008406365035,-0.03744092081629672,-0.03318284513619147,-0.030012008406365035,-0.04126408404259309,-0.030012008406365035,-0.044763909740218856,-0.038756975562240385,-0.03318284513619147,-0.02000300097533387,-0.03466008635163916,-0.038756975562240385,-0.03466008635163916,-0.030012008406365035,-0.036077167719207555,-0.03466008635163916,-0.044763909740218856,-0.031637017888873485,-0.03318284513619147,-0.03744092081629672,-0.03466008635163916,-0.028294176933755945,-0.014142842854277925,-0.017322240559621654,-0.030012008406365035,-0.03466008635163916,-0.031637017888873485,-0.02236515370056788,-0.04695348960844234,-0.031637017888873485,-0.036077167719207555,-0.031637017888873485,-0.030012008406365035,-0.028294176933755945,-0.02646545473264996,-0.031637017888873485,-0.028294176933755945,-0.028294176933755945,-0.028294176933755945,-0.028294176933755945,-0.03318284513619147,-0.028294176933755945,-0.030012008406365035,-0.024501024062435935,-0.02236515370056788,-0.028294176933755945,-0.028294176933755945,-0.02646545473264996,-0.028294176933755945,-0.030012008406365035,-0.030012008406365035,-0.030012008406365035,-0.02000300097533387,-0.02646545473264996,-0.014142842854277925,-0.031637017888873485,-0.024501024062435935,-0.017322240559621654,-0.028294176933755945,-0.024501024062435935,-0.02646545473264996,0.0,-0.02646545473264996,-0.02646545473264996,-0.030012008406365035,-0.024501024062435935,-0.024501024062435935,-0.024501024062435935,0.0,-0.024501024062435935,-0.03466008635163916,-0.02236515370056788,-0.02236515370056788,-0.02236515370056788,-0.04003003679930667,-0.02000300097533387,-0.02000300097533387,-0.017322240559621654,-0.024501024062435935,-0.02000300097533387,-0.02000300097533387,-0.02236515370056788,-0.017322240559621654,-0.024501024062435935,-0.024501024062435935,-0.02000300097533387,-0.030012008406365035,-0.014142842854277925,-0.02646545473264996,-0.02236515370056788,-0.02236515370056788,-0.024501024062435935,-0.017322240559621654,-0.02000300097533387,-0.017322240559621654,-0.02236515370056788,-0.014142842854277925,-0.031637017888873485,-0.024501024062435935,-0.02000300097533387,-0.02000300097533387,-0.017322240559621654,-0.017322240559621654,-0.024501024062435935,-0.02236515370056788,-0.017322240559621654,-0.02236515370056788,-0.017322240559621654,-0.017322240559621654,-0.02000300097533387,-0.017322240559621654,0.0,-0.014142842854277925,0.0,-0.02000300097533387,-0.01,-0.014142842854277925,-0.017322240559621654,-0.017322240559621654,-0.017322240559621654,-0.014142842854277925,-0.014142842854277925,-0.01,-0.014142842854277925,-0.02000300097533387,-0.014142842854277925,-0.017322240559621654,0.0,-0.017322240559621654,-0.01,-0.01,-0.014142842854277925,0.0,-0.014142842854277925,-0.014142842854277925,-0.01,0.0,-0.014142842854277925,-0.01,-0.01,-0.01,-0.014142842854277925,-0.014142842854277925,-0.014142842854277925,-0.014142842854277925,-0.014142842854277925,-0.014142842854277925,-0.014142842854277925,-0.01,-0.01,-0.014142842854277925,0.0,-0.014142842854277925,-0.014142842854277925,-0.014142842854277925,-0.014142842854277925,-0.01,-0.01,-0.01,-0.01,-0.014142842854277925,-0.014142842854277925,-0.01,-0.01,-0.01,0.0,-0.014142842854277925,-0.014142842854277925,-0.01,-0.014142842854277925,-0.01,0.0,-0.014142842854277925,-0.014142842854277925,-0.01,-0.01,-0.01,-0.01,0.0,0.0,0.0,-0.014142842854277925,-0.01,-0.01,-0.014142842854277925,-0.01,0.0,-0.01,-0.014142842854277925,-0.01,0.0,-0.014142842854277925,-0.01,-0.01,-0.01,0.0,0.0,-0.01,0.0,-0.01,-0.01,-0.01,-0.01,-0.01,-0.01,-0.01,-0.01,-0.014142842854277925,-0.01,0.0,-0.01,-0.017322240559621654,-0.01,-0.01,-0.01,-0.01,0.0,-0.01,-0.01,-0.01,0.0,-0.01,-0.01,-0.01,0.0,0.0,-0.01,0.0,-0.01,-0.01,0.0,0.0,-0.01,-0.01,-0.01,0.0,0.0,0.0,0.0,0.0,0.0,-0.01,0.0,-0.014142842854277925,-0.01,0.0,-0.01,0.0,-0.01,0.0,-0.01,0.0,0.0,0.0,0.0,-0.01,0.0,0.0,0.0,0.0,0.0,0.0,-0.01,0.0,0.0,0.0,0.0,0.0,0.0,-0.4522262445355063,-0.38001605175045755,-0.4195687122141992,-0.35797489979168434,-0.31022765367693744,0.0,4.300154423991705,-0.22477870197097002,-0.18873779499871673,-0.18731264316984636,-0.18530152997972202,-0.22256066447213235,-0.19099894506233633,-0.15101771962788957,-0.08025322242841672,-0.1764577209531396,0.0,-0.24377924168769177,-0.2524089028308502,-0.24239507671019309,-0.16530021998950947,-0.16498073847512204,-0.1743377843735494,-0.1875984213735909,-0.18151541614108194,-0.15444563934751834,-0.16401895657088722,-0.15205347028886798,-0.15410596564912288,-0.1468082114008704,-0.15646963817078435,-0.1443008800289642,-0.11741435766915949,-0.11609447196746572,-0.11386249491014895,-0.09203429039828893,-0.14466151017737713,-0.10785464843798498,-0.09740764623852616,-0.07703520686197955,-0.12255948865029458,-0.10642240438619965,-0.12213853602836552,-0.10545725944315962,-0.09998995000503749,-0.08455800017320876,-0.09947864498432611,-0.10973655326442525,-0.09529337567230584,-0.09998995000503749,-0.09688324508165085,-0.08455800017320876,-0.06871478802878644,-0.08923065994559935,-0.10399349364216474,-0.07768921213458505,-0.06571254060962411,-0.07703520686197955,-0.07703520686197955,-0.06175851060219023,-0.08273978443963945,-0.07229563351163897,-0.07016862415279304,-0.054851856655318484,-0.06175851060219023,-0.08455800017320876,-0.06871478802878644,-0.0736802238534214,-0.06871478802878644,-0.05202921299918296,-0.05298661366266788,-0.06093742254992414,-0.07299114224538011,-0.05840597810280806,-0.05665643693268138,-0.06175851060219023,-0.05392720664458539,-0.06647558661576448,-0.051054059036031024,-0.05298661366266788,-0.05392720664458539,-0.04801116187751664,-0.036077167719207555,-0.05006011423872288,-0.038756975562240385,-0.05202921299918296,-0.044763909740218856,-0.03744092081629672,-0.05202921299918296,-0.057537769885347055,-0.04246251897770878,-0.054851856655318484,-0.03744092081629672,-0.044763909740218856,-0.04801116187751664,-0.06175851060219023,-0.04801116187751664,-0.044763909740218856,-0.044763909740218856,-0.04362827650010601,-0.04695348960844234,-0.04003003679930667,-0.04801116187751664,-0.03466008635163916,-0.04246251897770878,-0.028294176933755945,-0.038756975562240385,-0.03318284513619147,-0.028294176933755945,-0.044763909740218856,-0.038756975562240385,-0.028294176933755945,-0.024501024062435935,-0.03466008635163916,-0.028294176933755945,-0.03466008635163916,-0.04126408404259309,-0.028294176933755945,-0.030012008406365035,-0.036077167719207555,-0.03318284513619147,-0.031637017888873485,-0.04246251897770878,-0.030012008406365035,-0.044763909740218856,-0.03744092081629672,-0.03318284513619147,-0.02000300097533387,-0.03466008635163916,-0.038756975562240385,-0.03466008635163916,-0.030012008406365035,-0.036077167719207555,-0.031637017888873485,-0.04362827650010601,-0.031637017888873485,-0.028294176933755945,-0.03744092081629672,-0.036077167719207555,-0.030012008406365035,-0.014142842854277925,-0.017322240559621654,-0.030012008406365035,-0.03318284513619147,-0.031637017888873485,-0.028294176933755945,-0.03318284513619147,-0.04801116187751664,-0.03744092081629672,-0.030012008406365035,-0.030012008406365035,-0.028294176933755945,-0.02646545473264996,-0.028294176933755945,-0.031637017888873485,-0.028294176933755945,37.78132702048158,-0.03318284513619147,-0.030012008406365035,-0.02646545473264996,-0.030012008406365035,-0.024501024062435935,-0.02236515370056788,-0.028294176933755945,-0.02646545473264996,-0.02646545473264996,-0.028294176933755945,-0.030012008406365035,-0.02646545473264996,-0.028294176933755945,-0.02000300097533387,-0.02646545473264996,-0.014142842854277925,-0.031637017888873485,-0.024501024062435935,-0.017322240559621654,-0.028294176933755945,-0.024501024062435935,-0.024501024062435935,0.0,-0.02646545473264996,-0.02646545473264996,-0.031637017888873485,-0.024501024062435935,-0.02646545473264996,-0.024501024062435935,0.0,-0.02236515370056788,-0.02236515370056788,-0.024501024062435935,-0.031637017888873485,-0.02236515370056788,-0.02000300097533387,-0.04003003679930667,-0.02000300097533387,-0.017322240559621654,-0.02236515370056788,-0.02000300097533387,-0.02000300097533387,-0.02236515370056788,-0.014142842854277925,-0.02236515370056788,-0.024501024062435935,-0.02000300097533387,-0.030012008406365035,-0.014142842854277925,-0.024501024062435935,-0.014142842854277925,-0.02236515370056788,-0.017322240559621654,-0.02236515370056788,-0.02000300097533387,-0.017322240559621654,-0.02236515370056788,-0.024501024062435935,-0.014142842854277925,-0.031637017888873485,-0.02000300097533387,-0.02000300097533387,-0.017322240559621654,-0.017322240559621654,-0.02236515370056788,-0.02236515370056788,-0.017322240559621654,-0.02236515370056788,-0.017322240559621654,-0.01,-0.02000300097533387,-0.017322240559621654,0.0,-0.014142842854277925,-0.02000300097533387,-0.01,0.0,-0.017322240559621654,-0.014142842854277925,-0.017322240559621654,-0.014142842854277925,-0.014142842854277925,-0.014142842854277925,-0.01,-0.01,-0.02000300097533387,-0.014142842854277925,-0.014142842854277925,0.0,-0.017322240559621654,-0.01,-0.01,-0.014142842854277925,0.0,-0.014142842854277925,-0.014142842854277925,-0.014142842854277925,0.0,0.0,-0.01,-0.01,-0.01,-0.014142842854277925,-0.014142842854277925,-0.014142842854277925,-0.014142842854277925,-0.01,-0.014142842854277925,-0.014142842854277925,-0.01,-0.01,0.0,-0.014142842854277925,-0.014142842854277925,-0.01,-0.014142842854277925,-0.01,-0.01,-0.01,-0.01,-0.01,-0.01,-0.01,-0.014142842854277925,-0.01,-0.01,0.0,-0.014142842854277925,-0.01,-0.01,-0.014142842854277925,0.0,-0.01,-0.014142842854277925,-0.014142842854277925,-0.01,-0.01,-0.01,-0.01,0.0,0.0,-0.014142842854277925,-0.01,0.0,-0.014142842854277925,-0.01,-0.01,-0.01,-0.014142842854277925,-0.01,0.0,-0.014142842854277925,-0.01,0.0,-0.01,-0.01,0.0,-0.01,0.0,-0.01,0.0,-0.01,-0.01,-0.01,-0.01,-0.014142842854277925,-0.01,-0.01,-0.01,-0.01,-0.01,-0.01,-0.01,-0.01,-0.017322240559621654,-0.01,0.0,-0.01,-0.01,-0.01,0.0,0.0,-0.01,-0.01,-0.01,-0.01,-0.01,-0.01,-0.01,0.0,-0.01,0.0,0.0,-0.01,-0.01,-0.01,0.0,0.0,0.0,0.0,0.0,0.0,-0.01,-0.014142842854277925,0.0,-0.01,0.0,-0.01,0.0,0.0,-0.01,-0.01,0.0,0.0,0.0,0.0,-0.01,0.0,0.0,0.0,0.0,0.0,0.0,-0.01,0.0,0.0,0.0,0.0,0.0,0.0,0.0] |-4.0     |\n",
      "+-----------------------------------------------------------------------------------------------------------------------------------------------------------------------------------------------------------------------------------------------------------------------------------------------------------------------------------------------------------------------------------------------------------------------------------------------------------------------------------------------------------------------------------------------------------------------------------------------------------------------------------------------------------------------------------------------------------------------------------------------------------------------------------------------------------------------------------------------------------------------------------------------------------------------------------------------------------------------------------------------------------------------------------------------------------------------------------------------------------------------------------------------------------------------------------------------------------------------------------------------------------------------------------------------------------------------------------------------------------------------------------------------------------------------------------------------------------------------------------------------------------------------------------------------------------------------------------------------------------------------------------------------------------------------------------------------------------------------------------------------------------------------------------------------------------------------------------------------------------------------------------------------------------------------------------------------------------------------------------------------------------------------------------------------------------------------------------------------------------------------------------------------------------------------------------------------------------------------------------------------------------------------------------------------------------------------------------------------------------------------------------------------------------------------------------------------------------------------------------------------------------------------------------------------------------------------------------------------------------------------------------------------------------------------------------------------------------------------------------------------------------------------------------------------------------------------------------------------------------------------------------------------------------------------------------------------------------------------------------------------------------------------------------------------------------------------------------------------------------------------------------------------------------------------------------------------------------------------------------------------------------------------------------------------------------------------------------------------------------------------------------------------------------------------------------------------------------------------------------------------------------------------------------------------------------------------------------------------------------------------------------------------------------------------------------------------------------------------------------------------------------------------------------------------------------------------------------------------------------------------------------------------------------------------------------------------------------------------------------------------------------------------------------------------------------------------------------------------------------------------------------------------------------------------------------------------------------------------------------------------------------------------------------------------------------------------------------------------------------------------------------------------------------------------------------------------------------------------------------------------------------------------------------------------------------------------------------------------------------------------------------------------------------------------------------------------------------------------------------------------------------------------------------------------------------------------------------------------------------------------------------------------------------------------------------------------------------------------------------------------------------------------------------------------------------------------------------------------------------------------------------------------------------------------------------------------------------------------------------------------------------------------------------------------------------------------------------------------------------------------------------------------------------------------------------------------------------------------------------------------------------------------------------------------------------------------------------------------------------------------------------------------------------------------------------------------------------------------------------------------------------------------------------------------------------------------------------------------------------------------------------------------------------------------------------------------------------------------------------------------------------------------------------------------------------------------------------------------------------------------------------------------------------------------------------------------------------------------------------------------------------------------------------------------------------------------------------------------------------------------------------------------------------------------------------------------------------------------------------------------------------------------------------------------------------------------------------------------------------------------------------------------------------------------------------------------------------------------------------------------------------------------------------------------------------------------------------------------------------------------------------------------------------------------------------------------------------------------------------------------------------------------------------------------------------------------------------------------------------------------------------------------------------------------------------------------------------------------------------------------------------------------------------------------------------------------------------------------------------------------------------------------------------------------------------------------------------------------------------------------------------------------------------------------------------------------------------------------------------------------------------------------------------------------------------------------------------------------------------------------------------------------------------------------------------------------------------------------------------------------------------------------------------------------------------------------------------------------------------------------------------------------------------------------------------------------------------------------------------------------------------------------------------------------------------------------------------------------------------------------------------------------------------------------------------------------------------------------------------------------------------------------------------------------------------------------------------------------------------------------------------------------------------------------------------------------------------------------------------------------------------------------------------------------------------------------------------------------------------------------------------------------------------------------------------------------------------------------------------------------------------------------------------------------------------------------------------------------------------------------------------------------------------------------------------------------------------------------------------------------------------------------------------------------------------------------------------------------------------------------------------------------------------------------------------------------------------------------------------------------------------------------------------------------------------------------------------------------------------------------------------------------------------------------------------------------------------------------------------------------------------------------------------------------------------------------------------------------------------------------------------------------------------------------------------------------------------------------------------------------------------------------------------------------------------------------------------------------------------------------------------------------------------------------------------------------------------------------------------------------------------------------------------------------------------------------------------------------------------------------------------------------------------------------------------------------------------------------------------------------------------------------------------------------------------------------------------------------------------------------------------------------------------------------------------------------------------------------------------------------------------------------------------------------------------------------------------------------------------------------------------------------------------------------------------------------------------------------------------------------------------------------------------------------------------------------------------------------------------------------------------------------------------------------------------------------------------------------------------------------------------------------------------------------------------------------------------------------------------------------------------------------------------------------------------------------------------------------------------------------------------------------------------------------------------------------------------------------------------------------------------------------------------------------------------------------------------------------------------------------------------------------------------------------------------------------------------------------------------------------------------------------------------------------------------------------------------------------------------------------------------------------------------------------------------------------------------------------------------------------------------------------------------------------------------------------------------------------------------------------------------------------------------------------------------------------------------------------------------------------------------------------------------------------------------------------------------------------------------------------------------------------------------------------------------------------------------------------------------------------------------------------------------------------------------------------------------------------------------------------------------------------------------------------------------------------------------------------------------------------------------------------------+---------+\n",
      "only showing top 5 rows\n",
      "\n"
     ]
    },
    {
     "name": "stderr",
     "output_type": "stream",
     "text": [
      "                                                                                \r"
     ]
    }
   ],
   "source": [
    "scaled_data_2021.select(\"scaled_features\", target_col).show(5, truncate=False)"
   ]
  },
  {
   "cell_type": "markdown",
   "metadata": {},
   "source": [
    "# TRAIN/TEST SPLIT"
   ]
  },
  {
   "cell_type": "code",
   "execution_count": 22,
   "metadata": {},
   "outputs": [
    {
     "name": "stderr",
     "output_type": "stream",
     "text": [
      "                                                                                \r"
     ]
    }
   ],
   "source": [
    "# Define train/test split percentage\n",
    "train_percent = 0.6\n",
    "val_percent = 0.2\n",
    "test_percent = 0.2\n",
    "\n",
    "# Calculate the split indices\n",
    "count = scaled_data_2021.count()\n",
    "train_index = int(train_percent * count)\n",
    "val_index = train_index + int(val_percent * count)\n",
    "\n",
    "# Split the data into training, validation, and testing sets\n",
    "train_data = scaled_data_2021.limit(train_index)\n",
    "val_data = scaled_data_2021.limit(val_index).subtract(train_data)\n",
    "test_data = scaled_data_2021.subtract(train_data).subtract(val_data)\n",
    "\n",
    "# Extract train, validation, test sets from the dataset\n",
    "X_train, y_train = train_data.select('scaled_features'), train_data.select(target_col)\n",
    "X_val, y_val = val_data.select('scaled_features'), val_data.select(target_col)\n",
    "X_test, y_test = test_data.select('scaled_features'), test_data.select(target_col)"
   ]
  },
  {
   "cell_type": "markdown",
   "metadata": {},
   "source": [
    "# MODEL BUILDING"
   ]
  },
  {
   "cell_type": "code",
   "execution_count": 46,
   "metadata": {},
   "outputs": [],
   "source": [
    "class SimpleRNN:\n",
    "    def __init__(self, input_size, hidden_size, output_size, learning_rate):\n",
    "        self.input_size = input_size\n",
    "        self.hidden_size = hidden_size\n",
    "        self.output_size = output_size\n",
    "        self.learning_rate = learning_rate\n",
    "        self.clip_value = 0.01\n",
    "        \n",
    "        # Initialize weights for input to hidden layer and hidden to output layer\n",
    "        self.weights_input_hidden = np.random.randn(input_size, hidden_size)\n",
    "        self.weights_hidden_output = np.random.randn(hidden_size, output_size)\n",
    "        self.bias_hidden = np.array([0.1] * hidden_size)\n",
    "        self.bias_output = np.array([0.1] * output_size)\n",
    "    \n",
    "    def leaky_relu(self, x, alpha=0.01):\n",
    "        return np.where(x > 0, x, alpha * x)\n",
    "    \n",
    "    def clip_gradients(self, gradients):\n",
    "        return np.clip(gradients, -self.clip_value, self.clip_value)\n",
    "\n",
    "    def forward(self, x):\n",
    "        self.hidden_state = self.leaky_relu(x.dot(self.weights_input_hidden) + self.bias_hidden) \n",
    "        output = self.hidden_state.dot(self.weights_hidden_output) + self.bias_output \n",
    "        return output\n",
    "\n",
    "    def backward(self, x, output, target):\n",
    "        loss_gradient = 2 * (output - target)  # Mean Squared Error loss gradient\n",
    "        hidden_state_gradient = self.weights_hidden_output.dot(loss_gradient)\n",
    "        \n",
    "        # Clip gradients before updating weights\n",
    "        hidden_state_gradient_clipped = self.clip_gradients(hidden_state_gradient)\n",
    "        loss_gradient_clipped = self.clip_gradients(loss_gradient)\n",
    "    \n",
    "        self.weights_input_hidden -= self.learning_rate * np.outer(x, hidden_state_gradient_clipped)\n",
    "        self.weights_hidden_output -= self.learning_rate * np.outer(self.hidden_state, loss_gradient_clipped)\n",
    "        self.bias_hidden -= self.learning_rate * hidden_state_gradient_clipped\n",
    "        self.bias_output -= self.learning_rate * loss_gradient_clipped\n",
    "        \n",
    "    def predict(self, x):\n",
    "        self.hidden_state = self.leaky_relu(x.dot(self.weights_input_hidden) + self.bias_hidden)\n",
    "        output = self.hidden_state.dot(self.weights_hidden_output) + self.bias_output\n",
    "        return output"
   ]
  },
  {
   "cell_type": "code",
   "execution_count": 24,
   "metadata": {},
   "outputs": [],
   "source": [
    "def mean_squared_error(y_true, y_pred):\n",
    "    mse = np.mean(np.square(y_true - y_pred))\n",
    "    return mse"
   ]
  },
  {
   "cell_type": "markdown",
   "metadata": {},
   "source": [
    "# TRAINING"
   ]
  },
  {
   "cell_type": "code",
   "execution_count": 25,
   "metadata": {},
   "outputs": [
    {
     "name": "stderr",
     "output_type": "stream",
     "text": [
      "                                                                                \r"
     ]
    }
   ],
   "source": [
    "X_train_np, y_train_np = X_train.collect(), y_train.collect()"
   ]
  },
  {
   "cell_type": "code",
   "execution_count": 26,
   "metadata": {},
   "outputs": [
    {
     "name": "stderr",
     "output_type": "stream",
     "text": [
      "                                                                                \r"
     ]
    }
   ],
   "source": [
    "X_val_np, y_val_np = X_val.collect(), y_val.collect()"
   ]
  },
  {
   "cell_type": "code",
   "execution_count": 91,
   "metadata": {},
   "outputs": [
    {
     "name": "stdout",
     "output_type": "stream",
     "text": [
      "Epoch 1:\n",
      "Train Loss: 2013.3258610559953 | Validation Loss: 1493.8031328526158\n",
      "\n",
      "Epoch 2:\n",
      "Train Loss: 2007.305696614973 | Validation Loss: 1515.9695008570563\n",
      "\n",
      "Epoch 3:\n",
      "Train Loss: 2014.7351813528498 | Validation Loss: 1518.5476974873984\n",
      "\n",
      "Epoch 4:\n",
      "Train Loss: 2015.7172687688328 | Validation Loss: 1519.1615822617748\n",
      "\n",
      "Epoch 5:\n",
      "Train Loss: 2016.111522884664 | Validation Loss: 1519.5143713274804\n",
      "\n",
      "Epoch 6:\n",
      "Train Loss: 2016.3820941003983 | Validation Loss: 1519.8437340277617\n",
      "\n",
      "Epoch 7:\n",
      "Train Loss: 2016.6429830788002 | Validation Loss: 1520.1526213054983\n",
      "\n",
      "Epoch 8:\n",
      "Train Loss: 2016.8931484842076 | Validation Loss: 1520.4674547224768\n",
      "\n",
      "Epoch 9:\n",
      "Train Loss: 2017.2615544856908 | Validation Loss: 1520.977604130057\n",
      "\n",
      "Epoch 10:\n",
      "Train Loss: 2017.526925206415 | Validation Loss: 1521.2201178859539\n",
      "\n"
     ]
    }
   ],
   "source": [
    "# Parameters\n",
    "learning_rate = 0.001\n",
    "epochs = 10\n",
    "hidden_size = 1\n",
    "\n",
    "input_size = len(X_train_np[0][0])\n",
    "output_size = 1\n",
    "rnn_model = SimpleRNN(input_size, hidden_size, output_size, learning_rate)\n",
    "\n",
    "train_losses = []\n",
    "val_losses = []\n",
    "\n",
    "for epoch in range(epochs):\n",
    "    print(f'Epoch {epoch + 1}:')\n",
    "    \n",
    "    # Training evaluation\n",
    "    train_loss = 0\n",
    "    for i in range(len(X_train_np)):\n",
    "        input_train = np.array(X_train_np[i][0])\n",
    "        target_train = y_train_np[i][0]\n",
    "        output_train = rnn_model.forward(input_train)\n",
    "        rnn_model.backward(input_train, output_train, target_train)\n",
    "        train_loss += mean_squared_error(target_train, output_train)\n",
    "    avg_train_loss = train_loss / len(X_train_np)\n",
    "    train_losses.append(avg_train_loss)\n",
    "    print(f'Train Loss: {avg_train_loss}', end=' | ')\n",
    "    \n",
    "    # Validation evaluation\n",
    "    val_loss = 0\n",
    "    for i in range(len(X_val_np)):\n",
    "        input_val = np.array(X_val_np[i][0])\n",
    "        target_val = y_val_np[i][0]\n",
    "        output_val = rnn_model.forward(input_val)\n",
    "        val_loss += mean_squared_error(target_val, output_val)\n",
    "    average_val_loss = val_loss / len(X_val_np)\n",
    "    val_losses.append(average_val_loss)\n",
    "    print(f'Validation Loss: {average_val_loss}\\n')"
   ]
  },
  {
   "cell_type": "code",
   "execution_count": 92,
   "metadata": {},
   "outputs": [
    {
     "data": {
      "image/png": "[encoded data removed]",
      "text/plain": [
       "<Figure size 432x288 with 1 Axes>"
      ]
     },
     "metadata": {
      "needs_background": "light"
     },
     "output_type": "display_data"
    }
   ],
   "source": [
    "def plot_loss(train_loss, val_loss, hidden_size):\n",
    "    # Create an array for the number of epochs, e.g., [1, 2, 3, ...]\n",
    "    epochs = np.arange(1, len(train_loss) + 1)\n",
    "\n",
    "    # Plot training accuracy and validation accuracy on the same graph\n",
    "    plt.plot(epochs, train_loss, label='Training Loss', marker='o', linestyle='-')\n",
    "    plt.plot(epochs, val_loss, label='Validation Loss', marker='o', linestyle='-')\n",
    "\n",
    "    # Set axis labels and a legend\n",
    "    plt.xlabel('Epoch')\n",
    "    plt.ylabel('Loss')\n",
    "    plt.legend(loc='best')\n",
    "\n",
    "    # Display the plot\n",
    "    plt.xticks(np.arange(1, len(train_loss) + 1, step=1))\n",
    "    plt.title(f'h = {hidden_size} | Training and Validation Loss (by Epoch)')\n",
    "    plt.show()\n",
    "    \n",
    "plot_loss(train_losses, val_losses, hidden_size)"
   ]
  },
  {
   "cell_type": "markdown",
   "metadata": {},
   "source": [
    "# EVALUATION"
   ]
  },
  {
   "cell_type": "code",
   "execution_count": 83,
   "metadata": {},
   "outputs": [
    {
     "name": "stderr",
     "output_type": "stream",
     "text": [
      "                                                                                \r"
     ]
    }
   ],
   "source": [
    "X_test_np, y_test_np = X_test.collect(), y_test.collect()"
   ]
  },
  {
   "cell_type": "code",
   "execution_count": 93,
   "metadata": {},
   "outputs": [],
   "source": [
    "# Make predictions on a new set of data\n",
    "preds = []\n",
    "\n",
    "for i in range(len(X_test_np)):\n",
    "    input = np.array(X_test_np[i][0])\n",
    "    output = rnn_model.predict(input)\n",
    "    preds.append(output)\n",
    "\n",
    "# Convert predictions to a NumPy array\n",
    "preds = np.array(preds)"
   ]
  },
  {
   "cell_type": "code",
   "execution_count": 94,
   "metadata": {},
   "outputs": [
    {
     "name": "stdout",
     "output_type": "stream",
     "text": [
      "Test Mean Squared Error: 2422.083332156909\n",
      "Test Root Mean Squared Error: 49.21466582388739\n"
     ]
    }
   ],
   "source": [
    "mse_value = mean_squared_error(y_test_np, preds)\n",
    "print(f\"Test Mean Squared Error: {mse_value}\")\n",
    "print(f\"Test Root Mean Squared Error: {np.sqrt(mse_value)}\")"
   ]
  },
  {
   "cell_type": "markdown",
   "metadata": {},
   "source": []
  }
 ],
 "metadata": {
  "kernelspec": {
   "display_name": "Python 3",
   "language": "python",
   "name": "python3"
  },
  "language_info": {
   "codemirror_mode": {
    "name": "ipython",
    "version": 3
   },
   "file_extension": ".py",
   "mimetype": "text/x-python",
   "name": "python",
   "nbconvert_exporter": "python",
   "pygments_lexer": "ipython3",
   "version": "3.10.12"
  }
 },
 "nbformat": 4,
 "nbformat_minor": 2
}
