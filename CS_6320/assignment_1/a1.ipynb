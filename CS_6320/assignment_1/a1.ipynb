{
 "cells": [
  {
   "cell_type": "code",
   "execution_count": 8,
   "metadata": {},
   "outputs": [],
   "source": [
    "# IMPORTS\n",
    "import math\n",
    "from collections import Counter\n",
    "from functools import reduce\n",
    "from string import punctuation\n",
    "from typing import Optional\n",
    "\n",
    "from nltk import sent_tokenize"
   ]
  },
  {
   "cell_type": "markdown",
   "metadata": {},
   "source": [
    "# Unsmoothed n-grams\n",
    "\n",
    "To start, you will write a program that computes unsmoothed unigram and bigram probabilities from\n",
    "the training corpus.\n",
    "\n",
    "You are given a tokenized opinion spam corpus as input. You may want to do additional preprocessing, based on the design decisions you make.\n",
    "\n",
    "You may use existing tools just for the purpose of preprocessing, but you must write the code for gathering n-gram counts and computing n-gram probabilities yourself.\n",
    "\n",
    "For example, consider the simple corpus consisting of the sole sentence: \n",
    "\n",
    "`the students like the assignment`\n",
    "\n",
    "Part of what your program would compute for a unigram and bigram model, for example, would be the\n",
    "following:\n",
    "\n",
    "```\n",
    "P (the) = 0.4, P (like) = 0.2\n",
    "P (the|like) = 1.0, P (students|the) = 0.5\n",
    "```\n",
    "\n",
    "**Preprocessing**: The files included are already tokenized and hence it should be straightforward to\n",
    "obtain the tokens by using space as the delimiter. Feel free to do any other preprocessing that you might\n",
    "think is important for this corpus."
   ]
  },
  {
   "cell_type": "code",
   "execution_count": 9,
   "metadata": {},
   "outputs": [],
   "source": [
    "# Read in train set\n",
    "with open('./A1_DATASET/train.txt', 'r') as f:\n",
    "    train_text = f.read().splitlines()\n",
    "\n",
    "# Split train set into sentences\n",
    "train_sents = []\n",
    "for line in train_text:\n",
    "    train_sents += sent_tokenize(line)"
   ]
  },
  {
   "cell_type": "code",
   "execution_count": 10,
   "metadata": {},
   "outputs": [
    {
     "data": {
      "text/plain": [
       "'I am looking at a brick wall , and getting no sleep .'"
      ]
     },
     "execution_count": 10,
     "metadata": {},
     "output_type": "execute_result"
    }
   ],
   "source": [
    "# Example train sentence\n",
    "train_sents[3]"
   ]
  },
  {
   "cell_type": "code",
   "execution_count": 11,
   "metadata": {},
   "outputs": [],
   "source": [
    "def preprocess(text: str) -> str:\n",
    "    \"\"\"\n",
    "    Preprocesses the text by doing the following:\n",
    "    - Removt punctuation\n",
    "    - Convert to lowercase\n",
    "    \"\"\"\n",
    "    text = text.translate(str.maketrans('', '', punctuation))\n",
    "    text = text.lower()\n",
    "    \n",
    "    return text"
   ]
  },
  {
   "cell_type": "code",
   "execution_count": 12,
   "metadata": {},
   "outputs": [],
   "source": [
    "train = [preprocess(text).split() for text in train_sents]"
   ]
  },
  {
   "cell_type": "code",
   "execution_count": 13,
   "metadata": {},
   "outputs": [
    {
     "name": "stdout",
     "output_type": "stream",
     "text": [
      "['i', 'am', 'looking', 'at', 'a', 'brick', 'wall', 'and', 'getting', 'no', 'sleep']\n"
     ]
    }
   ],
   "source": [
    "# Example preprocessed train sentence\n",
    "print(train[3])"
   ]
  },
  {
   "cell_type": "code",
   "execution_count": 14,
   "metadata": {},
   "outputs": [],
   "source": [
    "def ngrams(text: list, n: int) -> list[tuple]:\n",
    "    \"\"\"\n",
    "    Returns a list of n-grams from the text\n",
    "    Includes start and end tokens\n",
    "    \"\"\"\n",
    "    start_tokens = n - 1 if n > 1 else 1\n",
    "    text = ['<s>'] * start_tokens + text + ['</s>']\n",
    "    return [tuple(text[i:i+n]) for i in range(len(text)-n+1)]"
   ]
  },
  {
   "cell_type": "code",
   "execution_count": 15,
   "metadata": {},
   "outputs": [],
   "source": [
    "# Compute unigrams\n",
    "train_unigrams = [ngrams(sent, 1) for sent in train]\n",
    "train_unigram_counts = reduce(lambda x, y: Counter(x) + Counter(y), train_unigrams)\n",
    "\n",
    "train_boundary_token_count = train_unigram_counts[(\"<s>\",)] + train_unigram_counts[(\"</s>\",)]\n",
    "train_total_tokens = sum(train_unigram_counts.values()) - train_boundary_token_count # Subtract boundary token counts from total token count\n",
    "train_vocab_size = len(train_unigram_counts) - 2 # Subtract boundary tokens from vocab size\n",
    "train_unigram_probs = {k: v / train_total_tokens for k, v in train_unigram_counts.items() if k not in [(\"<s>\",), (\"</s>\",)]}"
   ]
  },
  {
   "cell_type": "code",
   "execution_count": 16,
   "metadata": {},
   "outputs": [
    {
     "data": {
      "text/plain": [
       "[(('<s>',), 5406),\n",
       " (('</s>',), 5406),\n",
       " (('the',), 5302),\n",
       " (('and',), 2593),\n",
       " (('a',), 2247),\n",
       " (('to',), 2090),\n",
       " (('was',), 1826),\n",
       " (('i',), 1711),\n",
       " (('in',), 1260),\n",
       " (('we',), 1117)]"
      ]
     },
     "execution_count": 16,
     "metadata": {},
     "output_type": "execute_result"
    }
   ],
   "source": [
    "# Display top 10 unigram counts\n",
    "train_unigram_counts.most_common(10)"
   ]
  },
  {
   "cell_type": "code",
   "execution_count": 17,
   "metadata": {},
   "outputs": [
    {
     "data": {
      "text/plain": [
       "[(('the',), 0.06677665965566316),\n",
       " (('and',), 0.032657842038312825),\n",
       " (('a',), 0.028300104535321603),\n",
       " (('to',), 0.026322749656796686),\n",
       " (('was',), 0.022997770752780262),\n",
       " (('i',), 0.02154938979080341),\n",
       " (('in',), 0.01586921749644202),\n",
       " (('we',), 0.014068187256766458),\n",
       " (('of',), 0.01317396944545901),\n",
       " (('hotel',), 0.013048023274852327)]"
      ]
     },
     "execution_count": 17,
     "metadata": {},
     "output_type": "execute_result"
    }
   ],
   "source": [
    "# Display top 10 unigram probabilities\n",
    "sorted(train_unigram_probs.items(), key=lambda x: x[1], reverse=True)[:10]"
   ]
  },
  {
   "cell_type": "code",
   "execution_count": 18,
   "metadata": {},
   "outputs": [],
   "source": [
    "# Compute bigrams\n",
    "train_bigrams = [ngrams(sent, 2) for sent in train]\n",
    "train_bigram_counts = reduce(lambda x, y: Counter(x) + Counter(y), train_bigrams)\n",
    "train_bigram_probs = {k: v / train_unigram_counts[(k[0],)] for k, v in train_bigram_counts.items()}"
   ]
  },
  {
   "cell_type": "code",
   "execution_count": 19,
   "metadata": {},
   "outputs": [
    {
     "data": {
      "text/plain": [
       "[(('<s>', 'the'), 991),\n",
       " (('<s>', 'i'), 710),\n",
       " (('<s>', 'we'), 462),\n",
       " (('the', 'hotel'), 414),\n",
       " (('in', 'the'), 412),\n",
       " (('of', 'the'), 343),\n",
       " (('at', 'the'), 333),\n",
       " (('the', 'room'), 295),\n",
       " (('and', 'the'), 281),\n",
       " (('to', 'the'), 264)]"
      ]
     },
     "execution_count": 19,
     "metadata": {},
     "output_type": "execute_result"
    }
   ],
   "source": [
    "# Display top 10 bigram counts\n",
    "train_bigram_counts.most_common(10)"
   ]
  },
  {
   "cell_type": "code",
   "execution_count": 20,
   "metadata": {},
   "outputs": [],
   "source": [
    "# Pack unigram and bigram counts into a dictionary\n",
    "train_ngram_counts = {\n",
    "    1: train_unigram_counts,\n",
    "    2: train_bigram_counts\n",
    "}"
   ]
  },
  {
   "cell_type": "markdown",
   "metadata": {},
   "source": [
    "# Smoothing and unknown words\n",
    "\n",
    "Firstly, you should implement at least one method to handle unknown words. \n",
    "\n",
    "Then, you will need to implement two smoothing methods (e.g., Laplace, Add-k smoothing) with different values of k. \n",
    "\n",
    "Teams can choose any method(s) they prefer for each. The report should clearly state the selected methods, providing a description for any non-standard approach (e.g., an approach not covered in class)."
   ]
  },
  {
   "cell_type": "code",
   "execution_count": 21,
   "metadata": {},
   "outputs": [],
   "source": [
    "# Replace words with <unk> if they appear less than or equal to \"n\" times\n",
    "n = 1\n",
    "unk_words = {k[0] for k, v in train_unigram_counts.items() if v <= n}\n",
    "\n",
    "# Replace decided unk_words with <UNK> in train set\n",
    "unk_train = [\n",
    "    [\"<UNK>\" if word in unk_words else word for word in sent] for sent in train\n",
    "]"
   ]
  },
  {
   "cell_type": "code",
   "execution_count": 22,
   "metadata": {},
   "outputs": [
    {
     "name": "stdout",
     "output_type": "stream",
     "text": [
      "['when', 'speaking', 'to', 'the', 'front', 'desk', 'i', 'was', 'told', 'that', 'they', 'were', 'simply', '<UNK>', 'my', 'request', 'for', 'an', 'upper', 'floor', 'which', 'i', 'had', 'requested', 'for', 'a', 'better', 'view']\n"
     ]
    }
   ],
   "source": [
    "# Example sentence with <UNK> tokens\n",
    "for sent in unk_train:\n",
    "    if \"<UNK>\" in sent:\n",
    "        print(sent)\n",
    "        break"
   ]
  },
  {
   "cell_type": "code",
   "execution_count": 23,
   "metadata": {},
   "outputs": [],
   "source": [
    "# Compute unigrams\n",
    "train_unk_unigrams = [ngrams(sent, 1) for sent in unk_train]\n",
    "train_unk_unigram_counts = reduce(lambda x, y: Counter(x) + Counter(y), train_unk_unigrams)\n",
    "train_unk_vocab_size = len(train_unk_unigram_counts) - 2 # Subtract boundary tokens from vocab size\n",
    "train_unk_unigram_probs = {k: v / train_total_tokens for k, v in train_unk_unigram_counts.items() if k not in [(\"<s>\",), (\"</s>\",)]}"
   ]
  },
  {
   "cell_type": "code",
   "execution_count": 24,
   "metadata": {},
   "outputs": [
    {
     "data": {
      "text/plain": [
       "[(('<s>',), 5406),\n",
       " (('</s>',), 5406),\n",
       " (('the',), 5302),\n",
       " (('<UNK>',), 3113),\n",
       " (('and',), 2593),\n",
       " (('a',), 2247),\n",
       " (('to',), 2090),\n",
       " (('was',), 1826),\n",
       " (('i',), 1711),\n",
       " (('in',), 1260)]"
      ]
     },
     "execution_count": 24,
     "metadata": {},
     "output_type": "execute_result"
    }
   ],
   "source": [
    "# Display top 10 unigram counts\n",
    "train_unk_unigram_counts.most_common(10)"
   ]
  },
  {
   "cell_type": "code",
   "execution_count": 25,
   "metadata": {},
   "outputs": [
    {
     "data": {
      "text/plain": [
       "[(('the',), 0.06677665965566316),\n",
       " (('<UNK>',), 0.039207042909860323),\n",
       " (('and',), 0.032657842038312825),\n",
       " (('a',), 0.028300104535321603),\n",
       " (('to',), 0.026322749656796686),\n",
       " (('was',), 0.022997770752780262),\n",
       " (('i',), 0.02154938979080341),\n",
       " (('in',), 0.01586921749644202),\n",
       " (('we',), 0.014068187256766458),\n",
       " (('of',), 0.01317396944545901)]"
      ]
     },
     "execution_count": 25,
     "metadata": {},
     "output_type": "execute_result"
    }
   ],
   "source": [
    "# Display top 10 unigram probabilities\n",
    "sorted(train_unk_unigram_probs.items(), key=lambda x: x[1], reverse=True)[:10]"
   ]
  },
  {
   "cell_type": "code",
   "execution_count": 26,
   "metadata": {},
   "outputs": [],
   "source": [
    "# Compute bigrams\n",
    "train_unk_bigrams = [ngrams(sent, 2) for sent in unk_train]\n",
    "train_unk_bigram_counts = reduce(lambda x, y: Counter(x) + Counter(y), train_unk_bigrams)\n",
    "train_unk_bigram_probs = {k: v / train_unk_unigram_counts[(k[0],)] for k, v in train_unk_bigram_counts.items()}"
   ]
  },
  {
   "cell_type": "code",
   "execution_count": 27,
   "metadata": {},
   "outputs": [
    {
     "data": {
      "text/plain": [
       "[(('<s>', 'the'), 991),\n",
       " (('<s>', 'i'), 710),\n",
       " (('<s>', 'we'), 462),\n",
       " (('<UNK>', '</s>'), 443),\n",
       " (('the', 'hotel'), 414),\n",
       " (('in', 'the'), 412),\n",
       " (('of', 'the'), 343),\n",
       " (('at', 'the'), 333),\n",
       " (('the', 'room'), 295),\n",
       " (('and', 'the'), 281)]"
      ]
     },
     "execution_count": 27,
     "metadata": {},
     "output_type": "execute_result"
    }
   ],
   "source": [
    "# Display top 10 bigram counts\n",
    "train_unk_bigram_counts.most_common(10)"
   ]
  },
  {
   "cell_type": "code",
   "execution_count": 53,
   "metadata": {},
   "outputs": [],
   "source": [
    "def laplace_smoothing(ngram: tuple[str, ...], ngram_counts: dict[int, dict], vocab_size: int, total_tokens: Optional[int] = None) -> float:\n",
    "    \"\"\"\n",
    "    Returns the Laplace smoothed probability for a given ngram\n",
    "    \"\"\"\n",
    "    n = len(ngram)\n",
    "    if n == 1:\n",
    "        return (ngram_counts[1][ngram] + 1) / (total_tokens + vocab_size)\n",
    "    else:\n",
    "        return (ngram_counts[n][ngram] + 1) / (ngram_counts[n-1][ngram[:-1]] + vocab_size)"
   ]
  },
  {
   "cell_type": "code",
   "execution_count": 54,
   "metadata": {},
   "outputs": [],
   "source": [
    "def add_k_smoothing(ngram: tuple[str, ...], ngram_counts: dict[int, dict], vocab_size: int, total_tokens: Optional[int] = None, k: int = 1) -> float:\n",
    "    \"\"\"\n",
    "    Returns the add-k smoothed probability for a given ngram\n",
    "    \"\"\"\n",
    "    n = len(ngram)\n",
    "    if n == 1:\n",
    "        return (ngram_counts[1][ngram] + k) / (total_tokens + k * vocab_size)\n",
    "    else:\n",
    "        return (ngram_counts[n][ngram] + k) / (ngram_counts[n-1][ngram[:-1]] + k * vocab_size)"
   ]
  },
  {
   "cell_type": "markdown",
   "metadata": {},
   "source": [
    "# Perplexity\n",
    "\n",
    "Implement code to compute the perplexity of a `development set` (*A `development set` is just another way to refer to the validation set—part of a dataset distinct from the training portion)*. Compute and report the perplexity of your model (with variations) on it. Compute perplexity as follows:\n",
    "\n",
    "![](https://i.gyazo.com/4069027ef1730b89862b96cbb1526b7e.png)\n",
    "\n",
    "Where:\n",
    "\n",
    "- N is the total number of tokens in the test corpus.\n",
    "- P(w_i|w_i1, ..., w_in+1) is the n-gram probability of your model.\n",
    "\n",
    "Under the second definition above, perplexity is a function of the average (per-word) log probability. Use this to avoid numerical computation errors.\n",
    "\n",
    "If you experimented with more than one type of smoothing and unknown word handling, you should report and compare the perplexity results of experiments among some of them."
   ]
  },
  {
   "cell_type": "code",
   "execution_count": 30,
   "metadata": {},
   "outputs": [],
   "source": [
    "# Read in test set\n",
    "with open('./A1_DATASET/val.txt', 'r') as f:\n",
    "    val_text = f.read().splitlines()\n",
    "    \n",
    "# Split test set into sentences\n",
    "val_sents = []\n",
    "for line in val_text:\n",
    "    val_sents += sent_tokenize(line)"
   ]
  },
  {
   "cell_type": "code",
   "execution_count": 31,
   "metadata": {},
   "outputs": [],
   "source": [
    "val = [preprocess(text).split() for text in val_sents]"
   ]
  },
  {
   "cell_type": "code",
   "execution_count": 32,
   "metadata": {},
   "outputs": [
    {
     "name": "stdout",
     "output_type": "stream",
     "text": [
      "['the', 'staff', 'was', 'friendly', 'and', 'the', 'fitness', 'center', 'while', 'not', 'huge', 'was', 'wellequipped', 'and', 'clean']\n"
     ]
    }
   ],
   "source": [
    "# Example preprocessed val sentence\n",
    "print(val[3])"
   ]
  },
  {
   "cell_type": "code",
   "execution_count": 33,
   "metadata": {},
   "outputs": [],
   "source": [
    "val_unigrams = [ngrams(sent, 1) for sent in val]\n",
    "val_bigrams = [ngrams(sent, 2) for sent in val]"
   ]
  },
  {
   "cell_type": "code",
   "execution_count": 34,
   "metadata": {},
   "outputs": [],
   "source": [
    "def perplexity(sent_probs: list[float]) -> float:\n",
    "    \"\"\"\n",
    "    Returns the perplexity of the test dataset\n",
    "    \"\"\"\n",
    "    l = (1 / len(sent_probs)) * sum([math.log2(prob) for prob in sent_probs])\n",
    "    return 2 ** -l"
   ]
  },
  {
   "cell_type": "markdown",
   "metadata": {},
   "source": [
    "**Perplexity For Train Unigrams**\n",
    "\n",
    "4 Methods:\n",
    "- Default model\n",
    "- \\<UNK\\> words\n",
    "- Laplace Smoothing\n",
    "- Add-K Smoothing\n",
    "    - k=0.5\n",
    "    - k=0.05\n",
    "    - k=0.01"
   ]
  },
  {
   "cell_type": "code",
   "execution_count": 35,
   "metadata": {},
   "outputs": [],
   "source": [
    "# Default model"
   ]
  },
  {
   "cell_type": "code",
   "execution_count": 36,
   "metadata": {},
   "outputs": [],
   "source": [
    "# Using <UNK> tokens\n"
   ]
  },
  {
   "cell_type": "code",
   "execution_count": 37,
   "metadata": {},
   "outputs": [],
   "source": [
    "# Using Laplace Smoothing"
   ]
  },
  {
   "cell_type": "code",
   "execution_count": 38,
   "metadata": {},
   "outputs": [],
   "source": [
    "# Using Add-k Smoothing"
   ]
  },
  {
   "cell_type": "markdown",
   "metadata": {},
   "source": [
    "**Perplexity For Train Bigrams**\n",
    "\n",
    "4 Methods:\n",
    "- Default model\n",
    "- \\<UNK\\> words\n",
    "- Laplace Smoothing\n",
    "- Add-K Smoothing\n",
    "    - k=0.5\n",
    "    - k=0.05\n",
    "    - k=0.01"
   ]
  },
  {
   "cell_type": "code",
   "execution_count": 39,
   "metadata": {},
   "outputs": [],
   "source": [
    "# Default model"
   ]
  },
  {
   "cell_type": "code",
   "execution_count": 40,
   "metadata": {},
   "outputs": [],
   "source": [
    "# Using <UNK> tokens\n"
   ]
  },
  {
   "cell_type": "code",
   "execution_count": 41,
   "metadata": {},
   "outputs": [],
   "source": [
    "# Using Laplace Smoothing"
   ]
  },
  {
   "cell_type": "code",
   "execution_count": 42,
   "metadata": {},
   "outputs": [],
   "source": [
    "# Using Add-k Smoothing"
   ]
  },
  {
   "cell_type": "markdown",
   "metadata": {},
   "source": [
    "**Perplexity For Validation Unigrams**\n",
    "\n",
    "3 Methods:\n",
    "- \\<UNK\\> words\n",
    "- Laplace Smoothing\n",
    "- Add-K Smoothing\n",
    "    - k=0.5\n",
    "    - k=0.05\n",
    "    - k=0.01"
   ]
  },
  {
   "cell_type": "code",
   "execution_count": 60,
   "metadata": {},
   "outputs": [
    {
     "name": "stdout",
     "output_type": "stream",
     "text": [
      "(Perplexity | Unigrams | <UNK> Tokens): 1.2658373379148482e+37\n"
     ]
    }
   ],
   "source": [
    "# Using <UNK> tokens\n",
    "val_sent_probs_unk = [\n",
    "    math.prod(\n",
    "        train_unk_unigram_probs.get(unigram, train_unk_unigram_probs[(\"<UNK>\",)])\n",
    "        for unigram in sent_unigrams\n",
    "        if unigram not in [(\"<s>\",), (\"</s>\",)]\n",
    "    )\n",
    "    for sent_unigrams in val_unigrams\n",
    "]\n",
    "\n",
    "print('(Perplexity | Unigrams | <UNK> Tokens):', perplexity(val_sent_probs_unk))"
   ]
  },
  {
   "cell_type": "code",
   "execution_count": 61,
   "metadata": {},
   "outputs": [
    {
     "name": "stdout",
     "output_type": "stream",
     "text": [
      "(Perplexity | Unigrams | Laplace Smoothing): 2.1938464045883443e+40\n"
     ]
    }
   ],
   "source": [
    "# Using Laplace Smoothing\n",
    "val_sent_probs_lp = [\n",
    "    math.prod(\n",
    "        laplace_smoothing(ngram=unigram, ngram_counts=train_ngram_counts, vocab_size=train_vocab_size, total_tokens=train_total_tokens)\n",
    "        for unigram in sent_unigrams\n",
    "        if unigram not in [(\"<s>\",), (\"</s>\",)]\n",
    "    )\n",
    "    for sent_unigrams in val_unigrams\n",
    "]\n",
    "\n",
    "print('(Perplexity | Unigrams | Laplace Smoothing):', perplexity(val_sent_probs_lp))"
   ]
  },
  {
   "cell_type": "code",
   "execution_count": 69,
   "metadata": {},
   "outputs": [
    {
     "name": "stdout",
     "output_type": "stream",
     "text": [
      "(Perplexity | Unigrams | Add-K Smoothing | k=0.5): 2.4938717985987523e+40\n",
      "(Perplexity | Unigrams | Add-K Smoothing | k=0.05): 7.02056030501304e+40\n",
      "(Perplexity | Unigrams | Add-K Smoothing | k=0.01): 1.6200249907672142e+41\n"
     ]
    }
   ],
   "source": [
    "# Using Add-k Smoothing\n",
    "k = [0.5, 0.05, 0.01]\n",
    "for k_val in k:\n",
    "    val_sent_probs_k = [\n",
    "        math.prod(\n",
    "            add_k_smoothing(ngram=unigram, ngram_counts=train_ngram_counts, vocab_size=train_vocab_size, total_tokens=train_total_tokens, k=k_val)\n",
    "            for unigram in sent_unigrams\n",
    "            if unigram not in [(\"<s>\",), (\"</s>\",)]\n",
    "        )\n",
    "        for sent_unigrams in val_unigrams\n",
    "    ]\n",
    "    print(f'(Perplexity | Unigrams | Add-K Smoothing | k={k_val}):', perplexity(val_sent_probs_k))"
   ]
  },
  {
   "cell_type": "markdown",
   "metadata": {},
   "source": [
    "**Perplexity For Validation Bigrams**\n",
    "\n",
    "3 Methods:\n",
    "- \\<UNK\\> words\n",
    "- Laplace Smoothing\n",
    "- Add-K Smoothing\n",
    "    - k=0.5\n",
    "    - k=0.05\n",
    "    - k=0.01"
   ]
  },
  {
   "cell_type": "code",
   "execution_count": 47,
   "metadata": {},
   "outputs": [],
   "source": [
    "# Using <UNK> tokens\n",
    "val_sent_probs_unk = [\n",
    "    math.prod(\n",
    "        train_unk_unigram_probs.get(bigram, train_unk_unigram_probs[(\"<UNK>\",)])\n",
    "        for bigram in sent_bigrams\n",
    "    )\n",
    "    for sent_bigrams in val_bigrams\n",
    "]\n",
    "\n",
    "for sent_bigrams in val_bigrams:\n",
    "    for bigram in sent_bigrams:\n",
    "        unk_bigram = tuple('<UNK>' if word in unk_words else word for word in bigram)\n",
    "        train_unk_bigram_probs[unk_bigram] = \n",
    "\n",
    "print('(Perplexity | Unigrams | <UNK> Tokens):', perplexity(val_sent_probs_unk))"
   ]
  },
  {
   "cell_type": "code",
   "execution_count": 48,
   "metadata": {},
   "outputs": [],
   "source": [
    "# Using Laplace Smoothing\n"
   ]
  },
  {
   "cell_type": "code",
   "execution_count": 49,
   "metadata": {},
   "outputs": [],
   "source": [
    "# Using Add-k Smoothing\n"
   ]
  },
  {
   "cell_type": "code",
   "execution_count": 50,
   "metadata": {},
   "outputs": [
    {
     "name": "stdout",
     "output_type": "stream",
     "text": [
      "MLE Estimates: [(('an', ()), 0.5), (('apple', ()), 0.25)]\n",
      "MLE Estimates: [(('an', ()), 0.5), (('ant', ()), 0.0)]\n",
      "PP(an apple):2.8284271247461903\n",
      "PP(an ant):inf\n"
     ]
    }
   ],
   "source": [
    "import nltk\n",
    "from nltk.lm.preprocessing import padded_everygram_pipeline\n",
    "from nltk.lm import MLE\n",
    "\n",
    "train_sentences = ['an apple', 'an orange']\n",
    "tokenized_text = [list(map(str.lower, nltk.tokenize.word_tokenize(sent))) \n",
    "                for sent in train_sentences]\n",
    "n = 1\n",
    "train_data, padded_vocab = padded_everygram_pipeline(n, tokenized_text)\n",
    "model = MLE(n)\n",
    "model.fit(train_data, padded_vocab)\n",
    "\n",
    "test_sentences = ['an apple', 'an ant']\n",
    "tokenized_text = [list(map(str.lower, nltk.tokenize.word_tokenize(sent))) \n",
    "                for sent in test_sentences]\n",
    "\n",
    "test_data, _ = padded_everygram_pipeline(n, tokenized_text)\n",
    "for test in test_data:\n",
    "    print (\"MLE Estimates:\", [((ngram[-1], ngram[:-1]),model.score(ngram[-1], ngram[:-1])) for ngram in test])\n",
    "\n",
    "test_data, _ = padded_everygram_pipeline(n, tokenized_text)\n",
    "\n",
    "for i, test in enumerate(test_data):\n",
    "  print(\"PP({0}):{1}\".format(test_sentences[i], model.perplexity(test)))"
   ]
  },
  {
   "cell_type": "code",
   "execution_count": 51,
   "metadata": {},
   "outputs": [
    {
     "name": "stdout",
     "output_type": "stream",
     "text": [
      "MLE Estimates: [(('an', ('<s>',)), 1.0), (('apple', ('an',)), 0.5), (('</s>', ('apple',)), 1.0)]\n",
      "MLE Estimates: [(('an', ('<s>',)), 1.0), (('ant', ('an',)), 0.0), (('</s>', ('ant',)), 0)]\n",
      "PP(an apple):1.2599210498948732\n",
      "PP(an ant):inf\n"
     ]
    }
   ],
   "source": [
    "import nltk\n",
    "from nltk.lm.preprocessing import padded_everygram_pipeline\n",
    "from nltk.lm import MLE\n",
    "from nltk.lm import Vocabulary\n",
    "\n",
    "train_sentences = ['an apple', 'an orange']\n",
    "tokenized_text = [list(map(str.lower, nltk.tokenize.word_tokenize(sent))) for sent in train_sentences]\n",
    "\n",
    "n = 2\n",
    "train_data = [nltk.bigrams(t,  pad_right=True, pad_left=True, left_pad_symbol=\"<s>\", right_pad_symbol=\"</s>\") for t in tokenized_text]\n",
    "words = [word for sent in tokenized_text for word in sent]\n",
    "words.extend([\"<s>\", \"</s>\"])\n",
    "padded_vocab = Vocabulary(words)\n",
    "model = MLE(n)\n",
    "model.fit(train_data, padded_vocab)\n",
    "\n",
    "test_sentences = ['an apple', 'an ant']\n",
    "tokenized_text = [list(map(str.lower, nltk.tokenize.word_tokenize(sent))) for sent in test_sentences]\n",
    "\n",
    "test_data = [nltk.bigrams(t,  pad_right=True, pad_left=True, left_pad_symbol=\"<s>\", right_pad_symbol=\"</s>\") for t in tokenized_text]\n",
    "for test in test_data:\n",
    "    print (\"MLE Estimates:\", [((ngram[-1], ngram[:-1]),model.score(ngram[-1], ngram[:-1])) for ngram in test])\n",
    "\n",
    "test_data = [nltk.bigrams(t,  pad_right=True, pad_left=True, left_pad_symbol=\"<s>\", right_pad_symbol=\"</s>\") for t in tokenized_text]\n",
    "for i, test in enumerate(test_data):\n",
    "  print(\"PP({0}):{1}\".format(test_sentences[i], model.perplexity(test)))"
   ]
  }
 ],
 "metadata": {
  "kernelspec": {
   "display_name": ".venv",
   "language": "python",
   "name": "python3"
  },
  "language_info": {
   "codemirror_mode": {
    "name": "ipython",
    "version": 3
   },
   "file_extension": ".py",
   "mimetype": "text/x-python",
   "name": "python",
   "nbconvert_exporter": "python",
   "pygments_lexer": "ipython3",
   "version": "3.10.3"
  },
  "orig_nbformat": 4
 },
 "nbformat": 4,
 "nbformat_minor": 2
}
