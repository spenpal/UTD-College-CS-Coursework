{
  "nbformat": 4,
  "nbformat_minor": 0,
  "metadata": {
    "colab": {
      "name": "VolleyBot",
      "provenance": [],
      "collapsed_sections": []
    },
    "kernelspec": {
      "name": "python385jvsc74a57bd031f2aee4e71d21fbe5cf8b01ff0e069b9275f58929596ceb00d14d90e3e16cd6",
      "display_name": "Python 3.8.5 64-bit"
    },
    "language_info": {
      "name": "python",
      "version": "3.8.5-final"
    },
    "metadata": {
      "interpreter": {
        "hash": "31f2aee4e71d21fbe5cf8b01ff0e069b9275f58929596ceb00d14d90e3e16cd6"
      }
    }
  },
  "cells": [
    {
      "cell_type": "code",
      "metadata": {
        "id": "JMnCjl9Nqx_g"
      },
      "source": [
        "!pip3 install nltk\n",
        "!wget --no-check-certificate 'https://drive.google.com/uc?export=download&id=1UEt2aceJbUQCCtHlmLanQXHku3w1x68A' -O vball_kb.pickle\n",
        "!pip3 install -U spacy\n",
        "!python3 -m spacy download en_core_web_sm\n",
        "!pip3 install vaderSentiment"
      ],
      "execution_count": 14,
      "outputs": [
        {
          "output_type": "stream",
          "name": "stdout",
          "text": [
            "/usr/lib/python3/dist-packages/secretstorage/dhcrypto.py:15: CryptographyDeprecationWarning: int_from_bytes is deprecated, use int.from_bytes instead\n",
            "  from cryptography.utils import int_from_bytes\n",
            "/usr/lib/python3/dist-packages/secretstorage/util.py:19: CryptographyDeprecationWarning: int_from_bytes is deprecated, use int.from_bytes instead\n",
            "  from cryptography.utils import int_from_bytes\n",
            "Requirement already satisfied: nltk in /home/spenupala/.local/lib/python3.8/site-packages (3.5)\n",
            "Requirement already satisfied: regex in /home/spenupala/.local/lib/python3.8/site-packages (from nltk) (2020.9.27)\n",
            "Requirement already satisfied: tqdm in /home/spenupala/.local/lib/python3.8/site-packages (from nltk) (4.56.0)\n",
            "Requirement already satisfied: click in /home/spenupala/.local/lib/python3.8/site-packages (from nltk) (7.1.2)\n",
            "Requirement already satisfied: joblib in /home/spenupala/.local/lib/python3.8/site-packages (from nltk) (0.15.1)\n",
            "--2021-04-07 23:48:52--  https://drive.google.com/uc?export=download&id=1UEt2aceJbUQCCtHlmLanQXHku3w1x68A\n",
            "Resolving drive.google.com (drive.google.com)... 142.250.68.174, 2607:f8b0:4023:1006::8a, 2607:f8b0:4023:1006::8b, ...\n",
            "Connecting to drive.google.com (drive.google.com)|142.250.68.174|:443... connected.\n",
            "HTTP request sent, awaiting response... 302 Moved Temporarily\n",
            "Location: https://doc-0k-9g-docs.googleusercontent.com/docs/securesc/ha0ro937gcuc7l7deffksulhg5h7mbp1/fmcn62s0ah7sjnl35jir7pgc2q6plg1m/1617857325000/00345920610576897734/*/1UEt2aceJbUQCCtHlmLanQXHku3w1x68A?e=download [following]\n",
            "Warning: wildcards not supported in HTTP.\n",
            "--2021-04-07 23:48:52--  https://doc-0k-9g-docs.googleusercontent.com/docs/securesc/ha0ro937gcuc7l7deffksulhg5h7mbp1/fmcn62s0ah7sjnl35jir7pgc2q6plg1m/1617857325000/00345920610576897734/*/1UEt2aceJbUQCCtHlmLanQXHku3w1x68A?e=download\n",
            "Resolving doc-0k-9g-docs.googleusercontent.com (doc-0k-9g-docs.googleusercontent.com)... 172.217.1.129, 2607:f8b0:4023:1002::84\n",
            "Connecting to doc-0k-9g-docs.googleusercontent.com (doc-0k-9g-docs.googleusercontent.com)|172.217.1.129|:443... connected.\n",
            "HTTP request sent, awaiting response... 200 OK\n",
            "Length: 62041 (61K) [application/octet-stream]\n",
            "Saving to: ‘vball_kb.pickle’\n",
            "\n",
            "vball_kb.pickle     100%[===================>]  60.59K  --.-KB/s    in 0.02s   \n",
            "\n",
            "2021-04-07 23:48:52 (2.71 MB/s) - ‘vball_kb.pickle’ saved [62041/62041]\n",
            "\n",
            "/usr/lib/python3/dist-packages/secretstorage/dhcrypto.py:15: CryptographyDeprecationWarning: int_from_bytes is deprecated, use int.from_bytes instead\n",
            "  from cryptography.utils import int_from_bytes\n",
            "/usr/lib/python3/dist-packages/secretstorage/util.py:19: CryptographyDeprecationWarning: int_from_bytes is deprecated, use int.from_bytes instead\n",
            "  from cryptography.utils import int_from_bytes\n",
            "Requirement already up-to-date: spacy in /home/spenupala/.local/lib/python3.8/site-packages (3.0.5)\n",
            "Requirement already satisfied, skipping upgrade: pathy>=0.3.5 in /home/spenupala/.local/lib/python3.8/site-packages (from spacy) (0.3.5)\n",
            "Requirement already satisfied, skipping upgrade: preshed<3.1.0,>=3.0.2 in /home/spenupala/.local/lib/python3.8/site-packages (from spacy) (3.0.5)\n",
            "Requirement already satisfied, skipping upgrade: cymem<2.1.0,>=2.0.2 in /home/spenupala/.local/lib/python3.8/site-packages (from spacy) (2.0.5)\n",
            "Requirement already satisfied, skipping upgrade: packaging>=20.0 in /home/spenupala/.local/lib/python3.8/site-packages (from spacy) (20.9)\n",
            "Requirement already satisfied, skipping upgrade: thinc<8.1.0,>=8.0.2 in /home/spenupala/.local/lib/python3.8/site-packages (from spacy) (8.0.2)\n",
            "Requirement already satisfied, skipping upgrade: typer<0.4.0,>=0.3.0 in /home/spenupala/.local/lib/python3.8/site-packages (from spacy) (0.3.2)\n",
            "Requirement already satisfied, skipping upgrade: requests<3.0.0,>=2.13.0 in /home/spenupala/.local/lib/python3.8/site-packages (from spacy) (2.25.1)\n",
            "Requirement already satisfied, skipping upgrade: pydantic<1.8.0,>=1.7.1 in /home/spenupala/.local/lib/python3.8/site-packages (from spacy) (1.7.3)\n",
            "Requirement already satisfied, skipping upgrade: murmurhash<1.1.0,>=0.28.0 in /home/spenupala/.local/lib/python3.8/site-packages (from spacy) (1.0.5)\n",
            "Requirement already satisfied, skipping upgrade: wasabi<1.1.0,>=0.8.1 in /home/spenupala/.local/lib/python3.8/site-packages (from spacy) (0.8.2)\n",
            "Requirement already satisfied, skipping upgrade: srsly<3.0.0,>=2.4.0 in /home/spenupala/.local/lib/python3.8/site-packages (from spacy) (2.4.0)\n",
            "Requirement already satisfied, skipping upgrade: setuptools in /usr/lib/python3/dist-packages (from spacy) (45.2.0)\n",
            "Requirement already satisfied, skipping upgrade: spacy-legacy<3.1.0,>=3.0.0 in /home/spenupala/.local/lib/python3.8/site-packages (from spacy) (3.0.1)\n",
            "Requirement already satisfied, skipping upgrade: numpy>=1.15.0 in /home/spenupala/.local/lib/python3.8/site-packages (from spacy) (1.18.5)\n",
            "Requirement already satisfied, skipping upgrade: catalogue<2.1.0,>=2.0.1 in /home/spenupala/.local/lib/python3.8/site-packages (from spacy) (2.0.1)\n",
            "Requirement already satisfied, skipping upgrade: tqdm<5.0.0,>=4.38.0 in /home/spenupala/.local/lib/python3.8/site-packages (from spacy) (4.56.0)\n",
            "Requirement already satisfied, skipping upgrade: blis<0.8.0,>=0.4.0 in /home/spenupala/.local/lib/python3.8/site-packages (from spacy) (0.7.4)\n",
            "Requirement already satisfied, skipping upgrade: jinja2 in /usr/lib/python3/dist-packages (from spacy) (2.10.1)\n",
            "Requirement already satisfied, skipping upgrade: smart-open<4.0.0,>=2.2.0 in /home/spenupala/.local/lib/python3.8/site-packages (from pathy>=0.3.5->spacy) (3.0.0)\n",
            "Requirement already satisfied, skipping upgrade: pyparsing>=2.0.2 in /home/spenupala/.local/lib/python3.8/site-packages (from packaging>=20.0->spacy) (2.4.7)\n",
            "Requirement already satisfied, skipping upgrade: click<7.2.0,>=7.1.1 in /home/spenupala/.local/lib/python3.8/site-packages (from typer<0.4.0,>=0.3.0->spacy) (7.1.2)\n",
            "Requirement already satisfied, skipping upgrade: idna<3,>=2.5 in /usr/lib/python3/dist-packages (from requests<3.0.0,>=2.13.0->spacy) (2.8)\n",
            "Requirement already satisfied, skipping upgrade: certifi>=2017.4.17 in /usr/lib/python3/dist-packages (from requests<3.0.0,>=2.13.0->spacy) (2019.11.28)\n",
            "Requirement already satisfied, skipping upgrade: chardet<5,>=3.0.2 in /usr/lib/python3/dist-packages (from requests<3.0.0,>=2.13.0->spacy) (3.0.4)\n",
            "Requirement already satisfied, skipping upgrade: urllib3<1.27,>=1.21.1 in /usr/lib/python3/dist-packages (from requests<3.0.0,>=2.13.0->spacy) (1.25.8)\n",
            "2021-04-07 23:48:54.357442: W tensorflow/stream_executor/platform/default/dso_loader.cc:59] Could not load dynamic library 'libcudart.so.10.1'; dlerror: libcudart.so.10.1: cannot open shared object file: No such file or directory\n",
            "2021-04-07 23:48:54.357479: I tensorflow/stream_executor/cuda/cudart_stub.cc:29] Ignore above cudart dlerror if you do not have a GPU set up on your machine.\n",
            "/usr/lib/python3/dist-packages/secretstorage/dhcrypto.py:15: CryptographyDeprecationWarning: int_from_bytes is deprecated, use int.from_bytes instead\n",
            "  from cryptography.utils import int_from_bytes\n",
            "/usr/lib/python3/dist-packages/secretstorage/util.py:19: CryptographyDeprecationWarning: int_from_bytes is deprecated, use int.from_bytes instead\n",
            "  from cryptography.utils import int_from_bytes\n",
            "Collecting en-core-web-sm==3.0.0\n",
            "  Downloading https://github.com/explosion/spacy-models/releases/download/en_core_web_sm-3.0.0/en_core_web_sm-3.0.0-py3-none-any.whl (13.7 MB)\n",
            "\u001b[K     |████████████████████████████████| 13.7 MB 13.9 MB/s \n",
            "\u001b[?25hRequirement already satisfied: spacy<3.1.0,>=3.0.0 in /home/spenupala/.local/lib/python3.8/site-packages (from en-core-web-sm==3.0.0) (3.0.5)\n",
            "Requirement already satisfied: typer<0.4.0,>=0.3.0 in /home/spenupala/.local/lib/python3.8/site-packages (from spacy<3.1.0,>=3.0.0->en-core-web-sm==3.0.0) (0.3.2)\n",
            "Requirement already satisfied: catalogue<2.1.0,>=2.0.1 in /home/spenupala/.local/lib/python3.8/site-packages (from spacy<3.1.0,>=3.0.0->en-core-web-sm==3.0.0) (2.0.1)\n",
            "Requirement already satisfied: setuptools in /usr/lib/python3/dist-packages (from spacy<3.1.0,>=3.0.0->en-core-web-sm==3.0.0) (45.2.0)\n",
            "Requirement already satisfied: preshed<3.1.0,>=3.0.2 in /home/spenupala/.local/lib/python3.8/site-packages (from spacy<3.1.0,>=3.0.0->en-core-web-sm==3.0.0) (3.0.5)\n",
            "Requirement already satisfied: thinc<8.1.0,>=8.0.2 in /home/spenupala/.local/lib/python3.8/site-packages (from spacy<3.1.0,>=3.0.0->en-core-web-sm==3.0.0) (8.0.2)\n",
            "Requirement already satisfied: spacy-legacy<3.1.0,>=3.0.0 in /home/spenupala/.local/lib/python3.8/site-packages (from spacy<3.1.0,>=3.0.0->en-core-web-sm==3.0.0) (3.0.1)\n",
            "Requirement already satisfied: wasabi<1.1.0,>=0.8.1 in /home/spenupala/.local/lib/python3.8/site-packages (from spacy<3.1.0,>=3.0.0->en-core-web-sm==3.0.0) (0.8.2)\n",
            "Requirement already satisfied: pathy>=0.3.5 in /home/spenupala/.local/lib/python3.8/site-packages (from spacy<3.1.0,>=3.0.0->en-core-web-sm==3.0.0) (0.3.5)\n",
            "Requirement already satisfied: jinja2 in /usr/lib/python3/dist-packages (from spacy<3.1.0,>=3.0.0->en-core-web-sm==3.0.0) (2.10.1)\n",
            "Requirement already satisfied: numpy>=1.15.0 in /home/spenupala/.local/lib/python3.8/site-packages (from spacy<3.1.0,>=3.0.0->en-core-web-sm==3.0.0) (1.18.5)\n",
            "Requirement already satisfied: tqdm<5.0.0,>=4.38.0 in /home/spenupala/.local/lib/python3.8/site-packages (from spacy<3.1.0,>=3.0.0->en-core-web-sm==3.0.0) (4.56.0)\n",
            "Requirement already satisfied: blis<0.8.0,>=0.4.0 in /home/spenupala/.local/lib/python3.8/site-packages (from spacy<3.1.0,>=3.0.0->en-core-web-sm==3.0.0) (0.7.4)\n",
            "Requirement already satisfied: cymem<2.1.0,>=2.0.2 in /home/spenupala/.local/lib/python3.8/site-packages (from spacy<3.1.0,>=3.0.0->en-core-web-sm==3.0.0) (2.0.5)\n",
            "Requirement already satisfied: packaging>=20.0 in /home/spenupala/.local/lib/python3.8/site-packages (from spacy<3.1.0,>=3.0.0->en-core-web-sm==3.0.0) (20.9)\n",
            "Requirement already satisfied: requests<3.0.0,>=2.13.0 in /home/spenupala/.local/lib/python3.8/site-packages (from spacy<3.1.0,>=3.0.0->en-core-web-sm==3.0.0) (2.25.1)\n",
            "Requirement already satisfied: pydantic<1.8.0,>=1.7.1 in /home/spenupala/.local/lib/python3.8/site-packages (from spacy<3.1.0,>=3.0.0->en-core-web-sm==3.0.0) (1.7.3)\n",
            "Requirement already satisfied: murmurhash<1.1.0,>=0.28.0 in /home/spenupala/.local/lib/python3.8/site-packages (from spacy<3.1.0,>=3.0.0->en-core-web-sm==3.0.0) (1.0.5)\n",
            "Requirement already satisfied: srsly<3.0.0,>=2.4.0 in /home/spenupala/.local/lib/python3.8/site-packages (from spacy<3.1.0,>=3.0.0->en-core-web-sm==3.0.0) (2.4.0)\n",
            "Requirement already satisfied: click<7.2.0,>=7.1.1 in /home/spenupala/.local/lib/python3.8/site-packages (from typer<0.4.0,>=0.3.0->spacy<3.1.0,>=3.0.0->en-core-web-sm==3.0.0) (7.1.2)\n",
            "Requirement already satisfied: smart-open<4.0.0,>=2.2.0 in /home/spenupala/.local/lib/python3.8/site-packages (from pathy>=0.3.5->spacy<3.1.0,>=3.0.0->en-core-web-sm==3.0.0) (3.0.0)\n",
            "Requirement already satisfied: pyparsing>=2.0.2 in /home/spenupala/.local/lib/python3.8/site-packages (from packaging>=20.0->spacy<3.1.0,>=3.0.0->en-core-web-sm==3.0.0) (2.4.7)\n",
            "Requirement already satisfied: chardet<5,>=3.0.2 in /usr/lib/python3/dist-packages (from requests<3.0.0,>=2.13.0->spacy<3.1.0,>=3.0.0->en-core-web-sm==3.0.0) (3.0.4)\n",
            "Requirement already satisfied: certifi>=2017.4.17 in /usr/lib/python3/dist-packages (from requests<3.0.0,>=2.13.0->spacy<3.1.0,>=3.0.0->en-core-web-sm==3.0.0) (2019.11.28)\n",
            "Requirement already satisfied: urllib3<1.27,>=1.21.1 in /usr/lib/python3/dist-packages (from requests<3.0.0,>=2.13.0->spacy<3.1.0,>=3.0.0->en-core-web-sm==3.0.0) (1.25.8)\n",
            "Requirement already satisfied: idna<3,>=2.5 in /usr/lib/python3/dist-packages (from requests<3.0.0,>=2.13.0->spacy<3.1.0,>=3.0.0->en-core-web-sm==3.0.0) (2.8)\n",
            "Installing collected packages: en-core-web-sm\n",
            "Successfully installed en-core-web-sm-3.0.0\n",
            "\u001b[38;5;2m✔ Download and installation successful\u001b[0m\n",
            "You can now load the package via spacy.load('en_core_web_sm')\n",
            "/usr/lib/python3/dist-packages/secretstorage/dhcrypto.py:15: CryptographyDeprecationWarning: int_from_bytes is deprecated, use int.from_bytes instead\n",
            "  from cryptography.utils import int_from_bytes\n",
            "/usr/lib/python3/dist-packages/secretstorage/util.py:19: CryptographyDeprecationWarning: int_from_bytes is deprecated, use int.from_bytes instead\n",
            "  from cryptography.utils import int_from_bytes\n",
            "Requirement already satisfied: vaderSentiment in /home/spenupala/.local/lib/python3.8/site-packages (3.3.2)\n",
            "Requirement already satisfied: requests in /home/spenupala/.local/lib/python3.8/site-packages (from vaderSentiment) (2.25.1)\n",
            "Requirement already satisfied: idna<3,>=2.5 in /usr/lib/python3/dist-packages (from requests->vaderSentiment) (2.8)\n",
            "Requirement already satisfied: urllib3<1.27,>=1.21.1 in /usr/lib/python3/dist-packages (from requests->vaderSentiment) (1.25.8)\n",
            "Requirement already satisfied: chardet<5,>=3.0.2 in /usr/lib/python3/dist-packages (from requests->vaderSentiment) (3.0.4)\n",
            "Requirement already satisfied: certifi>=2017.4.17 in /usr/lib/python3/dist-packages (from requests->vaderSentiment) (2019.11.28)\n"
          ]
        }
      ]
    },
    {
      "cell_type": "markdown",
      "metadata": {
        "id": "Ks2DTAF-ret4"
      },
      "source": [
        "**IMPORT STATEMENTS**"
      ]
    },
    {
      "cell_type": "code",
      "metadata": {
        "id": "DD-B3Y91rJlQ"
      },
      "source": [
        "%%capture\n",
        "# IMPORTS\n",
        "from collections import Counter\n",
        "from nltk import pos_tag, word_tokenize\n",
        "from nltk.corpus import stopwords\n",
        "from nltk.stem import WordNetLemmatizer\n",
        "from sklearn.feature_extraction.text import CountVectorizer\n",
        "from sklearn.metrics.pairwise import cosine_similarity\n",
        "from string import punctuation\n",
        "from vaderSentiment.vaderSentiment import SentimentIntensityAnalyzer\n",
        "import nltk\n",
        "import numpy as np\n",
        "import pickle\n",
        "import random\n",
        "import re\n",
        "import spacy\n",
        "import string\n",
        "import warnings\n",
        "\n",
        "# Settings and Data Loading\n",
        "warnings.filterwarnings('ignore')\n",
        "data = pickle.load(open('vball_kb.pickle', 'rb'))\n",
        "nltk.download('punkt', quiet=True)\n",
        "nltk.download('stopwords', quiet=True)\n",
        "nltk.download('wordnet', quiet=True)\n",
        "nltk.download('averaged_perceptron_tagger', quiet=True)\n",
        "\n",
        "nlp = spacy.load(\"en_core_web_sm\")\n",
        "\n",
        "# Load Knowledge Base Into List\n",
        "data_list = []\n",
        "for sents in data.values():\n",
        "  data_list.extend(sents)\n",
        "data_list = list(set(data_list))"
      ],
      "execution_count": 15,
      "outputs": []
    },
    {
      "cell_type": "markdown",
      "metadata": {
        "id": "SpUBjKtfrspD"
      },
      "source": [
        "**FUNCTIONS**"
      ]
    },
    {
      "cell_type": "code",
      "metadata": {
        "id": "V2HUvOoUcUGH"
      },
      "source": [
        "# Vader Sentiment Function \n",
        "def preprocessing_text(text):\n",
        "  tokens = nltk.word_tokenize(text)\n",
        "  important_tokens = [t for t in tokens if t not in stopwords.words('english')]\n",
        "  wnl = WordNetLemmatizer()\n",
        "  lemmatized = [wnl.lemmatize(t) for t in important_tokens]\n",
        "  str_list = ' '.join([str(elem) for elem in lemmatized])\n",
        "  return str_list\n",
        "\n",
        "def sentence_sentiment(text):\n",
        "  analyzer = SentimentIntensityAnalyzer()\n",
        "  vs = analyzer.polarity_scores(text)\n",
        "  max_key = ''\n",
        "  if vs.get('neg') > 0 or vs.get('pos') > 0:\n",
        "    if vs.get('neg') > vs.get('pos'):\n",
        "      max_key = 'neg'\n",
        "    else:\n",
        "      max_key = 'pos'\n",
        "  else:\n",
        "    max_key = max(vs, key=vs.get)\n",
        "  return max_key"
      ],
      "execution_count": 16,
      "outputs": []
    },
    {
      "cell_type": "code",
      "metadata": {
        "id": "RX4xKmEqRXgp"
      },
      "source": [
        "# POS Function\n",
        "def get_hotwords(text):\n",
        "    result = []\n",
        "    pos_tag = ['PROPN', 'ADJ', 'NOUN', 'VERB'] # 1\n",
        "    doc = nlp(text.lower()) # 2\n",
        "    for token in doc:\n",
        "        if(token.text in nlp.Defaults.stop_words or token.text in punctuation): # Text Preprocessing\n",
        "            continue\n",
        "        if(token.pos_ in pos_tag):\n",
        "            result.append(token.text)\n",
        "    return result"
      ],
      "execution_count": 17,
      "outputs": []
    },
    {
      "cell_type": "code",
      "metadata": {
        "id": "e6VOhk1KrsPH"
      },
      "source": [
        "# Greetings\n",
        "def greeting_response(text):\n",
        "  text = text.lower()\n",
        "\n",
        "  bot_greetings = ['howdy', 'hi', 'hey', 'hello', 'hola']\n",
        "  user_greetings = ['hi', 'hey', 'hello', 'hola', 'greetings', 'wassup', 'whats good', 'sup', 'yo']\n",
        "\n",
        "  if any(word in user_greetings for word in text.split()):\n",
        "    return random.choice(bot_greetings)"
      ],
      "execution_count": 18,
      "outputs": []
    },
    {
      "cell_type": "code",
      "metadata": {
        "id": "aHuf6W5ztLHe"
      },
      "source": [
        "# Bot Responses\n",
        "def index_sort(lst):\n",
        "  lst_and_idx = [(num, idx) for idx, num in enumerate(lst)]\n",
        "  lst_and_idx.sort(reverse=True)\n",
        "  lst_idx = [tup[1] for tup in lst_and_idx]\n",
        "  return lst_idx\n",
        "\n",
        "def bot_response(user_input):\n",
        "  # Put user_input in the data\n",
        "  user_input = user_input.lower()\n",
        "  data_list.append(user_input)\n",
        "\n",
        "  # Find similaritiy score between user_input and all sentence data, using cosine similarity\n",
        "  count_matrix = CountVectorizer().fit_transform(data_list)\n",
        "  similarity_scores = cosine_similarity(count_matrix[-1], count_matrix)\n",
        "  similarity_scores_list = similarity_scores.flatten()\n",
        "\n",
        "  # Get the value of indexes, from highest to lowest similarity score\n",
        "  index = index_sort(similarity_scores_list)\n",
        "  index = index[1:]\n",
        "\n",
        "  # Grab highest similar sentences to user's query. Limit it to only 2 sentences\n",
        "  sentence_limit, bot_response = 0, ''\n",
        "  for i in range(len(index)):\n",
        "    if similarity_scores_list[index[i]] > 0.0:\n",
        "      bot_response = f'{bot_response} {data_list[index[i]]}'\n",
        "      sentence_limit += 1\n",
        "    if sentence_limit > 1:\n",
        "      break\n",
        "\n",
        "  # If there are no similar sentences, return nothing to be found\n",
        "  if not bot_response:\n",
        "    bot_response = 'I am sorry, but I do not understand.'\n",
        "\n",
        "  # Remove user input from data KB\n",
        "  data_list.remove(user_input)\n",
        "\n",
        "  return bot_response"
      ],
      "execution_count": 19,
      "outputs": []
    },
    {
      "cell_type": "markdown",
      "metadata": {
        "id": "bJxcDYooWa0p"
      },
      "source": [
        "**USER MODEL**"
      ]
    },
    {
      "cell_type": "code",
      "metadata": {
        "id": "pfbhdrd0Wh8T"
      },
      "source": [
        "class User:\n",
        "  def __init__(self, name, keywords, likes_list, dislike_list):\n",
        "    self.name = name.title()\n",
        "    self.keywords = keywords\n",
        "    self.likes_list = likes_list\n",
        "    self.dislike_list = dislike_list"
      ],
      "execution_count": 20,
      "outputs": []
    },
    {
      "cell_type": "code",
      "metadata": {
        "id": "sbavet-j-wLY"
      },
      "source": [
        "users = []\n",
        "liked_items = []\n",
        "disliked_items = []"
      ],
      "execution_count": 21,
      "outputs": []
    },
    {
      "cell_type": "markdown",
      "metadata": {
        "id": "DGndwXkUzqbV"
      },
      "source": [
        "**MAIN**"
      ]
    },
    {
      "cell_type": "markdown",
      "metadata": {
        "id": "ICkUOPWLLagS"
      },
      "source": [
        "To access your user model, have one conversation with the bot, then exit out.\n",
        "\n",
        "Then, re-run this cell, and input your name again, and it will show your user model"
      ]
    },
    {
      "cell_type": "code",
      "metadata": {
        "id": "ptFfKa_izr8d"
      },
      "source": [
        "# Chatbot Code\n",
        "print('Type \"EXIT\" or \"exit\" once you are done talking to the bot')\n",
        "print(\"-> Volleybot: Hey, my name is VolleyBot. Nice to meet you. What is your name?\")\n",
        "name_input = input('-> Me: ').split()[-1]\n",
        "\n",
        "if any(user.name == name_input for user in users):\n",
        "  for user in users:\n",
        "    if user.name == name_input:\n",
        "      print(f'-> Volleybot: Welcome back, {user.name}! Here is what I got from our last session!')\n",
        "      print(f'Your Likes: {user1.likes_list}')\n",
        "      print(f'Your Dislikes: {user1.dislike_list}')\n",
        "else:\n",
        "  print(f\"-> Volleybot: Hey {name_input}, got any questions about volleyball?\")\n",
        "\n",
        "while True:\n",
        "  try:\n",
        "    print('-> Me: ', end='')\n",
        "    user_input = input()\n",
        "\n",
        "    if user_input.lower() == 'exit':\n",
        "      raise SystemExit\n",
        "\n",
        "    if sentence_sentiment(preprocessing_text(user_input)) == 'neg':\n",
        "      disliked_items.append(get_hotwords(user_input))\n",
        "    elif sentence_sentiment(preprocessing_text(user_input)) == 'pos':\n",
        "      liked_items.append(get_hotwords(user_input))\n",
        "\n",
        "    if greeting_response(user_input):\n",
        "      print(f'-> Volleybot: {greeting_response(user_input)}')\n",
        "    else:\n",
        "      print(f'-> Volleybot: {bot_response(user_input)}')\n",
        "\n",
        "  except(KeyboardInterrupt, EOFError, SystemExit):\n",
        "    user1 = User(name_input, liked_items + disliked_items, liked_items, disliked_items)\n",
        "    users.append(user1)\n",
        "    print(f'-> Volleybot: Adios! It was good chatting with you, {user1.name}!')\n",
        "    break"
      ],
      "execution_count": 23,
      "outputs": [
        {
          "output_type": "stream",
          "name": "stdout",
          "text": [
            "Type \"EXIT\" or \"exit\" once you are done talking to the bot\n",
            "-> Volleybot: Hey, my name is VolleyBot. Nice to meet you. What is your name?\n",
            "-> Volleybot: Welcome back, Sanjeev! Here is what I got from our last session!\n",
            "Your Likes: []\n",
            "Your Dislikes: []\n",
            "-> Me: -> Volleybot: I am sorry, but I do not understand.\n",
            "-> Me: -> Volleybot: Adios! It was good chatting with you, Sanjeev!\n"
          ]
        }
      ]
    },
    {
      "cell_type": "code",
      "execution_count": null,
      "metadata": {},
      "outputs": [],
      "source": []
    }
  ]
}